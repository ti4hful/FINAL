{
 "cells": [
  {
   "cell_type": "code",
   "execution_count": null,
   "metadata": {},
   "outputs": [],
   "source": [
    "pip install scikit-learn\n"
   ]
  },
  {
   "cell_type": "code",
   "execution_count": null,
   "metadata": {},
   "outputs": [],
   "source": [
    "pip install geopy"
   ]
  },
  {
   "cell_type": "code",
   "execution_count": 14,
   "metadata": {},
   "outputs": [],
   "source": [
    "import pandas as pd \n",
    "import numpy as np\n",
    "from sklearn.impute import SimpleImputer\n",
    "from geopy.geocoders import Nominatim\n",
    "from geopy.exc import GeocoderTimedOut"
   ]
  },
  {
   "cell_type": "code",
   "execution_count": 5,
   "metadata": {},
   "outputs": [
    {
     "name": "stdout",
     "output_type": "stream",
     "text": [
      "Missing Values (2015):\n",
      "Country                          0\n",
      "Region                           0\n",
      "Happiness Rank                   0\n",
      "Happiness Score                  0\n",
      "Standard Error                   0\n",
      "Economy (GDP per Capita)         0\n",
      "Family (Social Support)          0\n",
      "Health (Life Expectancy)         0\n",
      "Freedom                          0\n",
      "Trust (Government Corruption)    0\n",
      "Generosity                       0\n",
      "Dystopia Residual                0\n",
      "Year                             0\n",
      "Lower Confidence Interval        0\n",
      "Upper Confidence Interval        0\n",
      "dtype: int64\n"
     ]
    }
   ],
   "source": [
    "# Load  Data (2015)\n",
    "\n",
    "data_2015 = pd.read_csv(r'C:\\FINAL\\WHR\\v2\\data_2015.csv')\n",
    "\n",
    "# Display the first few rows of the DataFrame\n",
    "data_2015.head()\n",
    "\n",
    "# Check for missing values\n",
    "missing_values_2015 = data_2015.isnull().sum()\n",
    "\n",
    "# Display missing values (if any)\n",
    "print(\"Missing Values (2015):\")\n",
    "print(missing_values_2015)"
   ]
  },
  {
   "cell_type": "code",
   "execution_count": 131,
   "metadata": {},
   "outputs": [
    {
     "data": {
      "text/plain": [
       "Country                          0\n",
       "Region                           0\n",
       "Happiness Rank                   0\n",
       "Happiness Score                  0\n",
       "Lower Confidence Interval        0\n",
       "Upper Confidence Interval        0\n",
       "Economy (GDP per Capita)         0\n",
       "Family (Social Support)          0\n",
       "Health (Life Expectancy)         0\n",
       "Freedom                          0\n",
       "Trust (Government Corruption)    0\n",
       "Generosity                       0\n",
       "Dystopia Residual                0\n",
       "Standard Error                   0\n",
       "Year                             0\n",
       "dtype: int64"
      ]
     },
     "execution_count": 131,
     "metadata": {},
     "output_type": "execute_result"
    }
   ],
   "source": [
    "# Data (2016)\n",
    "data_2016 = pd.read_csv(r'C:\\FINAL\\WHR\\v2\\data_2016.csv')\n",
    "# Display the first few rows to understand the structure\n",
    "data_2016.head()\n",
    "# Check for missing values\n",
    "data_2016.isnull().sum()\n"
   ]
  },
  {
   "cell_type": "code",
   "execution_count": 133,
   "metadata": {},
   "outputs": [
    {
     "data": {
      "text/plain": [
       "Country                          0\n",
       "Region                           0\n",
       "Happiness Rank                   0\n",
       "Happiness Score                  0\n",
       "Upper Confidence Interval        0\n",
       "Lower Confidence Interval        0\n",
       "Economy (GDP per Capita)         0\n",
       "Family (Social Support)          0\n",
       "Health (Life Expectancy)         0\n",
       "Freedom                          0\n",
       "Generosity                       0\n",
       "Trust (Government Corruption)    0\n",
       "Dystopia Residual                0\n",
       "Year                             0\n",
       "Standard Error                   0\n",
       "dtype: int64"
      ]
     },
     "execution_count": 133,
     "metadata": {},
     "output_type": "execute_result"
    }
   ],
   "source": [
    "# Read the 2017 data\n",
    "\n",
    "data_2017 = pd.read_csv(r'C:\\FINAL\\WHR\\dataset\\data_2017.csv')\n",
    "\n",
    "# Display the first few rows to understand the structure\n",
    "data_2017.head()\n",
    "\n",
    "# Check for missing values\n",
    "data_2017.isnull().sum()"
   ]
  },
  {
   "cell_type": "code",
   "execution_count": 134,
   "metadata": {},
   "outputs": [
    {
     "data": {
      "text/plain": [
       "Happiness Rank                   0\n",
       "Country                          0\n",
       "Happiness Score                  0\n",
       "Economy (GDP per Capita)         0\n",
       "Family (Social Support)          0\n",
       "Health (Life Expectancy)         0\n",
       "Freedom                          0\n",
       "Generosity                       0\n",
       "Trust (Government Corruption)    0\n",
       "Region                           0\n",
       "Year                             0\n",
       "Dystopia Residual                0\n",
       "Upper Confidence Interval        0\n",
       "Lower Confidence Interval        0\n",
       "Standard Error                   4\n",
       "dtype: int64"
      ]
     },
     "execution_count": 134,
     "metadata": {},
     "output_type": "execute_result"
    }
   ],
   "source": [
    "# Read the 2018 data\n",
    "\n",
    "merged_data_2018 = pd.read_csv(r'C:\\FINAL\\WHR\\v2\\merged_data_2018.csv')\n",
    "\n",
    "# Display the first few rows to understand the structure\n",
    "merged_data_2018.head()\n",
    "\n",
    "# Check for missing values\n",
    "merged_data_2018.isnull().sum()"
   ]
  },
  {
   "cell_type": "code",
   "execution_count": 96,
   "metadata": {},
   "outputs": [
    {
     "data": {
      "text/html": [
       "<div>\n",
       "<style scoped>\n",
       "    .dataframe tbody tr th:only-of-type {\n",
       "        vertical-align: middle;\n",
       "    }\n",
       "\n",
       "    .dataframe tbody tr th {\n",
       "        vertical-align: top;\n",
       "    }\n",
       "\n",
       "    .dataframe thead th {\n",
       "        text-align: right;\n",
       "    }\n",
       "</style>\n",
       "<table border=\"1\" class=\"dataframe\">\n",
       "  <thead>\n",
       "    <tr style=\"text-align: right;\">\n",
       "      <th></th>\n",
       "      <th>Happiness Rank</th>\n",
       "      <th>Country</th>\n",
       "      <th>Happiness Score</th>\n",
       "      <th>Economy (GDP per Capita)</th>\n",
       "      <th>Family (Social Support)</th>\n",
       "      <th>Health (Life Expectancy)</th>\n",
       "      <th>Freedom</th>\n",
       "      <th>Generosity</th>\n",
       "      <th>Trust (Government Corruption)</th>\n",
       "      <th>Region</th>\n",
       "      <th>Year</th>\n",
       "      <th>Dystopia Residual</th>\n",
       "      <th>Upper Confidence Interval</th>\n",
       "      <th>Lower Confidence Interval</th>\n",
       "      <th>Standard Error</th>\n",
       "    </tr>\n",
       "  </thead>\n",
       "  <tbody>\n",
       "    <tr>\n",
       "      <th>0</th>\n",
       "      <td>1</td>\n",
       "      <td>Finland</td>\n",
       "      <td>7.632</td>\n",
       "      <td>1.305</td>\n",
       "      <td>1.592</td>\n",
       "      <td>0.874</td>\n",
       "      <td>0.681</td>\n",
       "      <td>0.202</td>\n",
       "      <td>0.393</td>\n",
       "      <td>Western Europe</td>\n",
       "      <td>2018</td>\n",
       "      <td>2.595</td>\n",
       "      <td>7.695</td>\n",
       "      <td>7.569</td>\n",
       "      <td>0.032143</td>\n",
       "    </tr>\n",
       "    <tr>\n",
       "      <th>1</th>\n",
       "      <td>2</td>\n",
       "      <td>Norway</td>\n",
       "      <td>7.594</td>\n",
       "      <td>1.456</td>\n",
       "      <td>1.582</td>\n",
       "      <td>0.861</td>\n",
       "      <td>0.686</td>\n",
       "      <td>0.286</td>\n",
       "      <td>0.340</td>\n",
       "      <td>Western Europe</td>\n",
       "      <td>2018</td>\n",
       "      <td>2.383</td>\n",
       "      <td>7.657</td>\n",
       "      <td>7.530</td>\n",
       "      <td>0.032398</td>\n",
       "    </tr>\n",
       "    <tr>\n",
       "      <th>2</th>\n",
       "      <td>3</td>\n",
       "      <td>Denmark</td>\n",
       "      <td>7.555</td>\n",
       "      <td>1.351</td>\n",
       "      <td>1.590</td>\n",
       "      <td>0.868</td>\n",
       "      <td>0.683</td>\n",
       "      <td>0.284</td>\n",
       "      <td>0.408</td>\n",
       "      <td>Western Europe</td>\n",
       "      <td>2018</td>\n",
       "      <td>2.370</td>\n",
       "      <td>7.623</td>\n",
       "      <td>7.487</td>\n",
       "      <td>0.034694</td>\n",
       "    </tr>\n",
       "    <tr>\n",
       "      <th>3</th>\n",
       "      <td>4</td>\n",
       "      <td>Iceland</td>\n",
       "      <td>7.495</td>\n",
       "      <td>1.343</td>\n",
       "      <td>1.644</td>\n",
       "      <td>0.914</td>\n",
       "      <td>0.677</td>\n",
       "      <td>0.353</td>\n",
       "      <td>0.138</td>\n",
       "      <td>Western Europe</td>\n",
       "      <td>2018</td>\n",
       "      <td>2.426</td>\n",
       "      <td>7.593</td>\n",
       "      <td>7.398</td>\n",
       "      <td>0.049745</td>\n",
       "    </tr>\n",
       "    <tr>\n",
       "      <th>4</th>\n",
       "      <td>5</td>\n",
       "      <td>Switzerland</td>\n",
       "      <td>7.487</td>\n",
       "      <td>1.420</td>\n",
       "      <td>1.549</td>\n",
       "      <td>0.927</td>\n",
       "      <td>0.660</td>\n",
       "      <td>0.256</td>\n",
       "      <td>0.357</td>\n",
       "      <td>Western Europe</td>\n",
       "      <td>2018</td>\n",
       "      <td>2.320</td>\n",
       "      <td>7.570</td>\n",
       "      <td>7.405</td>\n",
       "      <td>0.042092</td>\n",
       "    </tr>\n",
       "  </tbody>\n",
       "</table>\n",
       "</div>"
      ],
      "text/plain": [
       "   Happiness Rank      Country  Happiness Score  Economy (GDP per Capita)  \\\n",
       "0               1      Finland            7.632                     1.305   \n",
       "1               2       Norway            7.594                     1.456   \n",
       "2               3      Denmark            7.555                     1.351   \n",
       "3               4      Iceland            7.495                     1.343   \n",
       "4               5  Switzerland            7.487                     1.420   \n",
       "\n",
       "   Family (Social Support)  Health (Life Expectancy)  Freedom  Generosity  \\\n",
       "0                    1.592                     0.874    0.681       0.202   \n",
       "1                    1.582                     0.861    0.686       0.286   \n",
       "2                    1.590                     0.868    0.683       0.284   \n",
       "3                    1.644                     0.914    0.677       0.353   \n",
       "4                    1.549                     0.927    0.660       0.256   \n",
       "\n",
       "   Trust (Government Corruption)          Region  Year  Dystopia Residual  \\\n",
       "0                          0.393  Western Europe  2018              2.595   \n",
       "1                          0.340  Western Europe  2018              2.383   \n",
       "2                          0.408  Western Europe  2018              2.370   \n",
       "3                          0.138  Western Europe  2018              2.426   \n",
       "4                          0.357  Western Europe  2018              2.320   \n",
       "\n",
       "   Upper Confidence Interval  Lower Confidence Interval  Standard Error  \n",
       "0                      7.695                      7.569        0.032143  \n",
       "1                      7.657                      7.530        0.032398  \n",
       "2                      7.623                      7.487        0.034694  \n",
       "3                      7.593                      7.398        0.049745  \n",
       "4                      7.570                      7.405        0.042092  "
      ]
     },
     "execution_count": 96,
     "metadata": {},
     "output_type": "execute_result"
    }
   ],
   "source": [
    "# SE from 'Lower Confidence Interval' and 'Upper Confidence Interval'\n",
    "\n",
    "Z = 1.96  # Z-score for a 95% confidence interval\n",
    "\n",
    "merged_data_2018['Standard Error'] = (merged_data_2018['Upper Confidence Interval'] - merged_data_2018['Lower Confidence Interval']) / (2 * Z)\n",
    "\n",
    "merged_data_2018.head()"
   ]
  },
  {
   "cell_type": "code",
   "execution_count": 97,
   "metadata": {},
   "outputs": [
    {
     "data": {
      "text/plain": [
       "Happiness Rank                   0\n",
       "Country                          0\n",
       "Happiness Score                  0\n",
       "Economy (GDP per Capita)         0\n",
       "Family (Social Support)          0\n",
       "Health (Life Expectancy)         0\n",
       "Freedom                          0\n",
       "Generosity                       0\n",
       "Trust (Government Corruption)    0\n",
       "Region                           0\n",
       "Year                             0\n",
       "Dystopia Residual                0\n",
       "Upper Confidence Interval        0\n",
       "Lower Confidence Interval        0\n",
       "Standard Error                   0\n",
       "dtype: int64"
      ]
     },
     "execution_count": 97,
     "metadata": {},
     "output_type": "execute_result"
    }
   ],
   "source": [
    "# Display the first few rows to understand the structure\n",
    "merged_data_2018.head()\n",
    "\n",
    "# Check for missing values\n",
    "merged_data_2018.isnull().sum()"
   ]
  },
  {
   "cell_type": "code",
   "execution_count": 98,
   "metadata": {},
   "outputs": [
    {
     "data": {
      "text/plain": [
       "Happiness Rank                   0\n",
       "Country                          0\n",
       "Happiness Score                  0\n",
       "Economy (GDP per Capita)         0\n",
       "Family (Social Support)          0\n",
       "Health (Life Expectancy)         0\n",
       "Freedom                          0\n",
       "Generosity                       0\n",
       "Trust (Government Corruption)    0\n",
       "Region                           0\n",
       "Year                             0\n",
       "Dystopia Residual                0\n",
       "Upper Confidence Interval        0\n",
       "Lower Confidence Interval        0\n",
       "dtype: int64"
      ]
     },
     "execution_count": 98,
     "metadata": {},
     "output_type": "execute_result"
    }
   ],
   "source": [
    "# Read the 2019 data\n",
    "\n",
    "merged_dataf_2019 = pd.read_csv(r'C:\\FINAL\\WHR\\v2\\merged_dataf_2019.csv')\n",
    "\n",
    "# Display the first few rows to understand the structure\n",
    "merged_dataf_2019.head()\n",
    "\n",
    "# Check for missing values\n",
    "merged_dataf_2019.isnull().sum()"
   ]
  },
  {
   "cell_type": "code",
   "execution_count": 99,
   "metadata": {},
   "outputs": [],
   "source": [
    "# SE from 'Lower Confidence Interval' and 'Upper Confidence Interval'\n",
    "\n",
    "Z = 1.96  # Z-score for a 95% confidence interval\n",
    "\n",
    "merged_dataf_2019['Standard Error'] = (merged_dataf_2019['Upper Confidence Interval'] - merged_dataf_2019['Lower Confidence Interval']) / (2 * Z)\n"
   ]
  },
  {
   "cell_type": "code",
   "execution_count": 100,
   "metadata": {},
   "outputs": [
    {
     "data": {
      "text/plain": [
       "Happiness Rank                   0\n",
       "Country                          0\n",
       "Happiness Score                  0\n",
       "Economy (GDP per Capita)         0\n",
       "Family (Social Support)          0\n",
       "Health (Life Expectancy)         0\n",
       "Freedom                          0\n",
       "Generosity                       0\n",
       "Trust (Government Corruption)    0\n",
       "Region                           0\n",
       "Year                             0\n",
       "Dystopia Residual                0\n",
       "Upper Confidence Interval        0\n",
       "Lower Confidence Interval        0\n",
       "Standard Error                   0\n",
       "dtype: int64"
      ]
     },
     "execution_count": 100,
     "metadata": {},
     "output_type": "execute_result"
    }
   ],
   "source": [
    "# Display the first few rows to understand the structure\n",
    "merged_dataf_2019.head()\n",
    "\n",
    "# Check for missing values\n",
    "merged_dataf_2019.isnull().sum()"
   ]
  },
  {
   "cell_type": "code",
   "execution_count": 140,
   "metadata": {},
   "outputs": [
    {
     "data": {
      "text/plain": [
       "Happiness Rank                   0\n",
       "Happiness Score                  0\n",
       "Country                          0\n",
       "Region                           0\n",
       "Upper Confidence Interval        0\n",
       "Lower Confidence Interval        0\n",
       "Freedom                          0\n",
       "Generosity                       0\n",
       "Trust (Government Corruption)    0\n",
       "Economy (GDP per Capita)         0\n",
       "Family (Social Support)          0\n",
       "Health (Life Expectancy)         0\n",
       "Dystopia Residual                0\n",
       "Year                             0\n",
       "Standard Error                   0\n",
       "dtype: int64"
      ]
     },
     "execution_count": 140,
     "metadata": {},
     "output_type": "execute_result"
    }
   ],
   "source": [
    "# 2020 \n",
    "# Read the 2020 data\n",
    "\n",
    "data_2020 = pd.read_csv(r'C:\\FINAL\\WHR\\dataset\\2020.csv')\n",
    "\n",
    "# Display the first few rows to understand the structure\n",
    "data_2020.head()\n",
    "\n",
    "# Check for missing values\n",
    "data_2020.isnull().sum()"
   ]
  },
  {
   "cell_type": "code",
   "execution_count": 142,
   "metadata": {},
   "outputs": [
    {
     "data": {
      "text/plain": [
       "Happiness Rank                   0\n",
       "Happiness Score                  0\n",
       "Country                          0\n",
       "Region                           0\n",
       "Upper Confidence Interval        0\n",
       "Lower Confidence Interval        0\n",
       "Generosity                       0\n",
       "Economy (GDP per Capita)         0\n",
       "Family (Social Support)          0\n",
       "Health (Life Expectancy)         0\n",
       "Freedom                          0\n",
       "Trust (Government Corruption)    0\n",
       "Dystopia Residual                0\n",
       "Year                             0\n",
       "Standard Error                   0\n",
       "dtype: int64"
      ]
     },
     "execution_count": 142,
     "metadata": {},
     "output_type": "execute_result"
    }
   ],
   "source": [
    "# Read the 2021 data\n",
    "\n",
    "data_2021 = pd.read_csv(r'C:\\FINAL\\WHR\\dataset\\2021.csv')\n",
    "\n",
    "# Display the first few rows to understand the structure\n",
    "data_2021.head()\n",
    "\n",
    "# Check for missing values\n",
    "data_2021.isnull().sum()"
   ]
  },
  {
   "cell_type": "code",
   "execution_count": 114,
   "metadata": {},
   "outputs": [
    {
     "data": {
      "text/plain": [
       "Happiness Rank                   0\n",
       "Country                          0\n",
       "Region                           0\n",
       "Happiness Score                  0\n",
       "Upper Confidence Interval        0\n",
       "Lower Confidence Interval        0\n",
       "Dystopia Residual                0\n",
       "Economy (GDP per Capita)         0\n",
       "Unnamed: 8                       0\n",
       "Family (Social Support)          0\n",
       "Health (Life Expectancy)         0\n",
       "Freedom                          0\n",
       "Generosity                       0\n",
       "Trust (Government Corruption)    0\n",
       "Year                             0\n",
       "dtype: int64"
      ]
     },
     "execution_count": 114,
     "metadata": {},
     "output_type": "execute_result"
    }
   ],
   "source": [
    "# 2022\n",
    "\n",
    "data_2022 = pd.read_csv(r'C:\\FINAL\\WHR\\v2\\data_2022.csv')\n",
    "\n",
    "# Display the first few rows to understand the structure\n",
    "data_2022.head()\n",
    "\n",
    "# Check for missing values\n",
    "data_2022.isnull().sum()"
   ]
  },
  {
   "cell_type": "code",
   "execution_count": 116,
   "metadata": {},
   "outputs": [
    {
     "name": "stdout",
     "output_type": "stream",
     "text": [
      "Index(['Happiness Rank', 'Country', 'Region', 'Happiness Score',\n",
      "       'Upper Confidence Interval', 'Lower Confidence Interval',\n",
      "       'Dystopia Residual', 'Economy (GDP per Capita)',\n",
      "       'Family (Social Support)', 'Health (Life Expectancy)', 'Freedom',\n",
      "       'Generosity', 'Trust (Government Corruption)'],\n",
      "      dtype='object')\n"
     ]
    }
   ],
   "source": [
    "print(df.columns)\n"
   ]
  },
  {
   "cell_type": "code",
   "execution_count": 117,
   "metadata": {},
   "outputs": [],
   "source": [
    "# Remove leading and trailing whitespaces from column names\n",
    "df.columns = df.columns.str.strip()\n",
    "\n",
    "numeric_columns = ['Happiness Rank', 'Region', 'Happiness Score', 'Upper Confidence Interval', 'Lower Confidence Interval', 'Dystopia Residual',\n",
    "                    'Economy (GDP per Capita)', 'Family (Social Support)', 'Health (Life Expectancy)', \n",
    "                    'Freedom', 'Generosity', 'Trust (Government Corruption)']\n",
    "\n",
    "df[numeric_columns] = df[numeric_columns].replace({',': ''}, regex=True)\n",
    "df[numeric_columns] = df[numeric_columns].apply(pd.to_numeric, errors='coerce')"
   ]
  },
  {
   "cell_type": "code",
   "execution_count": 118,
   "metadata": {},
   "outputs": [
    {
     "data": {
      "text/plain": [
       "Happiness Rank                   0\n",
       "Country                          0\n",
       "Region                           0\n",
       "Happiness Score                  0\n",
       "Upper Confidence Interval        0\n",
       "Lower Confidence Interval        0\n",
       "Dystopia Residual                0\n",
       "Economy (GDP per Capita)         0\n",
       "Unnamed: 8                       0\n",
       "Family (Social Support)          0\n",
       "Health (Life Expectancy)         0\n",
       "Freedom                          0\n",
       "Generosity                       0\n",
       "Trust (Government Corruption)    0\n",
       "Year                             0\n",
       "dtype: int64"
      ]
     },
     "execution_count": 118,
     "metadata": {},
     "output_type": "execute_result"
    }
   ],
   "source": [
    "# Display the first few rows to understand the structure\n",
    "data_2022.head()\n",
    "\n",
    "# Check for missing values\n",
    "data_2022.isnull().sum()"
   ]
  },
  {
   "cell_type": "code",
   "execution_count": 119,
   "metadata": {},
   "outputs": [
    {
     "data": {
      "text/html": [
       "<div>\n",
       "<style scoped>\n",
       "    .dataframe tbody tr th:only-of-type {\n",
       "        vertical-align: middle;\n",
       "    }\n",
       "\n",
       "    .dataframe tbody tr th {\n",
       "        vertical-align: top;\n",
       "    }\n",
       "\n",
       "    .dataframe thead th {\n",
       "        text-align: right;\n",
       "    }\n",
       "</style>\n",
       "<table border=\"1\" class=\"dataframe\">\n",
       "  <thead>\n",
       "    <tr style=\"text-align: right;\">\n",
       "      <th></th>\n",
       "      <th>Happiness Rank</th>\n",
       "      <th>Country</th>\n",
       "      <th>Region</th>\n",
       "      <th>Happiness Score</th>\n",
       "      <th>Upper Confidence Interval</th>\n",
       "      <th>Lower Confidence Interval</th>\n",
       "      <th>Dystopia Residual</th>\n",
       "      <th>Economy (GDP per Capita)</th>\n",
       "      <th>Unnamed: 8</th>\n",
       "      <th>Family (Social Support)</th>\n",
       "      <th>Health (Life Expectancy)</th>\n",
       "      <th>Freedom</th>\n",
       "      <th>Generosity</th>\n",
       "      <th>Trust (Government Corruption)</th>\n",
       "      <th>Year</th>\n",
       "    </tr>\n",
       "  </thead>\n",
       "  <tbody>\n",
       "    <tr>\n",
       "      <th>0</th>\n",
       "      <td>1</td>\n",
       "      <td>Finland</td>\n",
       "      <td>Western Europe</td>\n",
       "      <td>7.82</td>\n",
       "      <td>7.886</td>\n",
       "      <td>7.756</td>\n",
       "      <td>2.518</td>\n",
       "      <td>1892.0</td>\n",
       "      <td>1.892</td>\n",
       "      <td>1.258</td>\n",
       "      <td>0.775</td>\n",
       "      <td>0.736</td>\n",
       "      <td>0.109</td>\n",
       "      <td>0.534</td>\n",
       "      <td>2022</td>\n",
       "    </tr>\n",
       "    <tr>\n",
       "      <th>1</th>\n",
       "      <td>2</td>\n",
       "      <td>Denmark</td>\n",
       "      <td>Western Europe</td>\n",
       "      <td>7.64</td>\n",
       "      <td>7.710</td>\n",
       "      <td>7.563</td>\n",
       "      <td>2.226</td>\n",
       "      <td>1953.0</td>\n",
       "      <td>1.953</td>\n",
       "      <td>1.243</td>\n",
       "      <td>0.777</td>\n",
       "      <td>0.719</td>\n",
       "      <td>0.188</td>\n",
       "      <td>0.532</td>\n",
       "      <td>2022</td>\n",
       "    </tr>\n",
       "    <tr>\n",
       "      <th>2</th>\n",
       "      <td>3</td>\n",
       "      <td>Iceland</td>\n",
       "      <td>Western Europe</td>\n",
       "      <td>7.56</td>\n",
       "      <td>7.651</td>\n",
       "      <td>7.464</td>\n",
       "      <td>2.320</td>\n",
       "      <td>1936.0</td>\n",
       "      <td>1.936</td>\n",
       "      <td>1.320</td>\n",
       "      <td>0.803</td>\n",
       "      <td>0.718</td>\n",
       "      <td>0.270</td>\n",
       "      <td>0.191</td>\n",
       "      <td>2022</td>\n",
       "    </tr>\n",
       "    <tr>\n",
       "      <th>3</th>\n",
       "      <td>4</td>\n",
       "      <td>Switzerland</td>\n",
       "      <td>Western Europe</td>\n",
       "      <td>7.51</td>\n",
       "      <td>7.586</td>\n",
       "      <td>7.437</td>\n",
       "      <td>2.153</td>\n",
       "      <td>2026.0</td>\n",
       "      <td>2.026</td>\n",
       "      <td>1.226</td>\n",
       "      <td>0.822</td>\n",
       "      <td>0.677</td>\n",
       "      <td>0.147</td>\n",
       "      <td>0.461</td>\n",
       "      <td>2022</td>\n",
       "    </tr>\n",
       "    <tr>\n",
       "      <th>4</th>\n",
       "      <td>5</td>\n",
       "      <td>Netherlands</td>\n",
       "      <td>Western Europe</td>\n",
       "      <td>7.42</td>\n",
       "      <td>7.471</td>\n",
       "      <td>7.359</td>\n",
       "      <td>2.137</td>\n",
       "      <td>1945.0</td>\n",
       "      <td>1.945</td>\n",
       "      <td>1.206</td>\n",
       "      <td>0.787</td>\n",
       "      <td>0.651</td>\n",
       "      <td>0.271</td>\n",
       "      <td>0.419</td>\n",
       "      <td>2022</td>\n",
       "    </tr>\n",
       "  </tbody>\n",
       "</table>\n",
       "</div>"
      ],
      "text/plain": [
       "   Happiness Rank      Country          Region  Happiness Score  \\\n",
       "0               1      Finland  Western Europe             7.82   \n",
       "1               2      Denmark  Western Europe             7.64   \n",
       "2               3      Iceland  Western Europe             7.56   \n",
       "3               4  Switzerland  Western Europe             7.51   \n",
       "4               5  Netherlands  Western Europe             7.42   \n",
       "\n",
       "   Upper Confidence Interval  Lower Confidence Interval  Dystopia Residual  \\\n",
       "0                      7.886                      7.756              2.518   \n",
       "1                      7.710                      7.563              2.226   \n",
       "2                      7.651                      7.464              2.320   \n",
       "3                      7.586                      7.437              2.153   \n",
       "4                      7.471                      7.359              2.137   \n",
       "\n",
       "   Economy (GDP per Capita)  Unnamed: 8  Family (Social Support)  \\\n",
       "0                    1892.0       1.892                    1.258   \n",
       "1                    1953.0       1.953                    1.243   \n",
       "2                    1936.0       1.936                    1.320   \n",
       "3                    2026.0       2.026                    1.226   \n",
       "4                    1945.0       1.945                    1.206   \n",
       "\n",
       "   Health (Life Expectancy)  Freedom  Generosity  \\\n",
       "0                     0.775    0.736       0.109   \n",
       "1                     0.777    0.719       0.188   \n",
       "2                     0.803    0.718       0.270   \n",
       "3                     0.822    0.677       0.147   \n",
       "4                     0.787    0.651       0.271   \n",
       "\n",
       "   Trust (Government Corruption)  Year  \n",
       "0                          0.534  2022  \n",
       "1                          0.532  2022  \n",
       "2                          0.191  2022  \n",
       "3                          0.461  2022  \n",
       "4                          0.419  2022  "
      ]
     },
     "execution_count": 119,
     "metadata": {},
     "output_type": "execute_result"
    }
   ],
   "source": [
    "df[numeric_columns] = df[numeric_columns].replace({',': ''}, regex=True)\n",
    "df[numeric_columns] = df[numeric_columns].apply(pd.to_numeric, errors='coerce')\n",
    "\n",
    "# Display the first few rows to understand the structure\n",
    "data_2022.head()"
   ]
  },
  {
   "cell_type": "code",
   "execution_count": 120,
   "metadata": {},
   "outputs": [],
   "source": [
    "# Convert 'Upper Confidence Interval' and 'Lower Confidence Interval' to numeric\n",
    "numeric_columns = ['Upper Confidence Interval', 'Lower Confidence Interval']\n",
    "data_2022[numeric_columns] = data_2022[numeric_columns].apply(pd.to_numeric, errors='coerce')\n",
    "\n",
    "# Drop rows with missing values\n",
    "data_2022 = data_2022.dropna(subset=numeric_columns)\n",
    "\n",
    "# Calculate Standard Error\n",
    "Z = 1.96  # Z-score for a 95% confidence interval\n",
    "data_2022['Standard Error'] = (data_2022['Upper Confidence Interval'] - data_2022['Lower Confidence Interval']) / (2 * Z)\n"
   ]
  },
  {
   "cell_type": "code",
   "execution_count": 121,
   "metadata": {},
   "outputs": [],
   "source": [
    "df = df.dropna()"
   ]
  },
  {
   "cell_type": "code",
   "execution_count": 122,
   "metadata": {},
   "outputs": [
    {
     "data": {
      "text/plain": [
       "Happiness Rank                   0\n",
       "Country                          0\n",
       "Region                           0\n",
       "Happiness Score                  0\n",
       "Upper Confidence Interval        0\n",
       "Lower Confidence Interval        0\n",
       "Dystopia Residual                0\n",
       "Economy (GDP per Capita)         0\n",
       "Unnamed: 8                       0\n",
       "Family (Social Support)          0\n",
       "Health (Life Expectancy)         0\n",
       "Freedom                          0\n",
       "Generosity                       0\n",
       "Trust (Government Corruption)    0\n",
       "Year                             0\n",
       "Standard Error                   0\n",
       "dtype: int64"
      ]
     },
     "execution_count": 122,
     "metadata": {},
     "output_type": "execute_result"
    }
   ],
   "source": [
    "# Check for missing values\n",
    "data_2022.isnull().sum()"
   ]
  },
  {
   "cell_type": "code",
   "execution_count": 123,
   "metadata": {},
   "outputs": [],
   "source": [
    "data_2022 = data_2022.drop(\"Unnamed: 8\", axis=1)\n"
   ]
  },
  {
   "cell_type": "code",
   "execution_count": 124,
   "metadata": {},
   "outputs": [
    {
     "name": "stdout",
     "output_type": "stream",
     "text": [
      "<class 'pandas.core.frame.DataFrame'>\n",
      "RangeIndex: 146 entries, 0 to 145\n",
      "Data columns (total 15 columns):\n",
      " #   Column                         Non-Null Count  Dtype  \n",
      "---  ------                         --------------  -----  \n",
      " 0   Happiness Rank                 146 non-null    int64  \n",
      " 1   Country                        146 non-null    object \n",
      " 2   Region                         146 non-null    object \n",
      " 3   Happiness Score                146 non-null    float64\n",
      " 4   Upper Confidence Interval      146 non-null    float64\n",
      " 5   Lower Confidence Interval      146 non-null    float64\n",
      " 6   Dystopia Residual              146 non-null    float64\n",
      " 7   Economy (GDP per Capita)       146 non-null    float64\n",
      " 8   Family (Social Support)        146 non-null    float64\n",
      " 9   Health (Life Expectancy)       146 non-null    float64\n",
      " 10  Freedom                        146 non-null    float64\n",
      " 11  Generosity                     146 non-null    float64\n",
      " 12  Trust (Government Corruption)  146 non-null    float64\n",
      " 13  Year                           146 non-null    int64  \n",
      " 14  Standard Error                 146 non-null    float64\n",
      "dtypes: float64(11), int64(2), object(2)\n",
      "memory usage: 17.2+ KB\n"
     ]
    }
   ],
   "source": [
    "data_2022.head()\n",
    "data_2022.info()\n"
   ]
  },
  {
   "cell_type": "code",
   "execution_count": 125,
   "metadata": {},
   "outputs": [],
   "source": [
    "# Save DataFrame to CSV\n",
    "data_2022.to_csv('data_2022.csv', index=False)"
   ]
  },
  {
   "cell_type": "code",
   "execution_count": 143,
   "metadata": {},
   "outputs": [],
   "source": [
    "# Define the desired column order \n",
    "desired_columns = [\n",
    "    'Year', 'Happiness Rank', 'Happiness Score', 'Region', 'Country', 'Standard Error',\n",
    "    'Upper Confidence Interval', 'Lower Confidence Interval', 'Dystopia Residual',\n",
    "    'Economy (GDP per Capita)', 'Health (Life Expectancy)', 'Family (Social Support)',\n",
    "    'Trust (Government Corruption)', 'Freedom', 'Generosity'\n",
    "]"
   ]
  },
  {
   "cell_type": "code",
   "execution_count": 144,
   "metadata": {},
   "outputs": [],
   "source": [
    "data_2015 = data_2015[desired_columns]"
   ]
  },
  {
   "cell_type": "code",
   "execution_count": 145,
   "metadata": {},
   "outputs": [],
   "source": [
    "data_2016 = data_2016[desired_columns]"
   ]
  },
  {
   "cell_type": "code",
   "execution_count": 146,
   "metadata": {},
   "outputs": [],
   "source": [
    "data_2017 = data_2017[desired_columns]\n",
    "merged_data_2018 = merged_data_2018[desired_columns]\n",
    "merged_dataf_2019 = merged_dataf_2019[desired_columns]\n",
    "data_2020 = data_2020[desired_columns]\n",
    "data_2021 = data_2021[desired_columns]\n",
    "data_2022 = data_2022[desired_columns]"
   ]
  },
  {
   "cell_type": "code",
   "execution_count": 147,
   "metadata": {},
   "outputs": [],
   "source": [
    "# Save the cleaned and reordered DataFrames to new CSV files\n",
    "data_2015.to_csv('cleaned_data_2015.csv', index=False)\n",
    "data_2016.to_csv('cleaned_data_2016.csv', index=False)\n",
    "data_2017.to_csv('cleaned_data_2017.csv', index=False)\n",
    "merged_data_2018.to_csv('cleaned_data_2018.csv', index=False)\n",
    "merged_dataf_2019.to_csv('cleaned_data_2019.csv', index=False)\n",
    "data_2020.to_csv('cleaned_data_2020.csv', index=False)\n",
    "data_2021.to_csv('cleaned_data_2021.csv', index=False)\n",
    "data_2022.to_csv('cleaned_data_2022.csv', index=False)"
   ]
  },
  {
   "cell_type": "code",
   "execution_count": 148,
   "metadata": {},
   "outputs": [],
   "source": [
    "# Concatenate the DataFrames\n",
    "big_table = pd.concat([data_2015, data_2016, data_2017, merged_data_2018, merged_dataf_2019, data_2020, data_2021, data_2022])\n",
    "\n",
    "# Save the concatenated DataFrame to a new CSV file\n",
    "big_table.to_csv('whr.csv', index=False)\n"
   ]
  }
 ],
 "metadata": {
  "kernelspec": {
   "display_name": "Python 3",
   "language": "python",
   "name": "python3"
  },
  "language_info": {
   "codemirror_mode": {
    "name": "ipython",
    "version": 3
   },
   "file_extension": ".py",
   "mimetype": "text/x-python",
   "name": "python",
   "nbconvert_exporter": "python",
   "pygments_lexer": "ipython3",
   "version": "3.11.6"
  }
 },
 "nbformat": 4,
 "nbformat_minor": 2
}
