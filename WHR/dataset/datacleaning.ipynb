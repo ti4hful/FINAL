{
 "cells": [
  {
   "cell_type": "code",
   "execution_count": 15,
   "metadata": {},
   "outputs": [],
   "source": [
    "import pandas as pd\n",
    "import numpy as np"
   ]
  },
  {
   "cell_type": "code",
   "execution_count": 2,
   "metadata": {},
   "outputs": [
    {
     "data": {
      "text/html": [
       "<div>\n",
       "<style scoped>\n",
       "    .dataframe tbody tr th:only-of-type {\n",
       "        vertical-align: middle;\n",
       "    }\n",
       "\n",
       "    .dataframe tbody tr th {\n",
       "        vertical-align: top;\n",
       "    }\n",
       "\n",
       "    .dataframe thead th {\n",
       "        text-align: right;\n",
       "    }\n",
       "</style>\n",
       "<table border=\"1\" class=\"dataframe\">\n",
       "  <thead>\n",
       "    <tr style=\"text-align: right;\">\n",
       "      <th></th>\n",
       "      <th>Country</th>\n",
       "      <th>Region</th>\n",
       "      <th>Happiness Rank</th>\n",
       "      <th>Happiness Score</th>\n",
       "      <th>Standard Error</th>\n",
       "      <th>Economy (GDP per Capita)</th>\n",
       "      <th>Family</th>\n",
       "      <th>Health (Life Expectancy)</th>\n",
       "      <th>Freedom</th>\n",
       "      <th>Trust (Government Corruption)</th>\n",
       "      <th>Generosity</th>\n",
       "      <th>Dystopia Residual</th>\n",
       "    </tr>\n",
       "  </thead>\n",
       "  <tbody>\n",
       "    <tr>\n",
       "      <th>0</th>\n",
       "      <td>Switzerland</td>\n",
       "      <td>Western Europe</td>\n",
       "      <td>1</td>\n",
       "      <td>7.587</td>\n",
       "      <td>0.03411</td>\n",
       "      <td>1.39651</td>\n",
       "      <td>1.34951</td>\n",
       "      <td>0.94143</td>\n",
       "      <td>0.66557</td>\n",
       "      <td>0.41978</td>\n",
       "      <td>0.29678</td>\n",
       "      <td>2.51738</td>\n",
       "    </tr>\n",
       "    <tr>\n",
       "      <th>1</th>\n",
       "      <td>Iceland</td>\n",
       "      <td>Western Europe</td>\n",
       "      <td>2</td>\n",
       "      <td>7.561</td>\n",
       "      <td>0.04884</td>\n",
       "      <td>1.30232</td>\n",
       "      <td>1.40223</td>\n",
       "      <td>0.94784</td>\n",
       "      <td>0.62877</td>\n",
       "      <td>0.14145</td>\n",
       "      <td>0.43630</td>\n",
       "      <td>2.70201</td>\n",
       "    </tr>\n",
       "    <tr>\n",
       "      <th>2</th>\n",
       "      <td>Denmark</td>\n",
       "      <td>Western Europe</td>\n",
       "      <td>3</td>\n",
       "      <td>7.527</td>\n",
       "      <td>0.03328</td>\n",
       "      <td>1.32548</td>\n",
       "      <td>1.36058</td>\n",
       "      <td>0.87464</td>\n",
       "      <td>0.64938</td>\n",
       "      <td>0.48357</td>\n",
       "      <td>0.34139</td>\n",
       "      <td>2.49204</td>\n",
       "    </tr>\n",
       "    <tr>\n",
       "      <th>3</th>\n",
       "      <td>Norway</td>\n",
       "      <td>Western Europe</td>\n",
       "      <td>4</td>\n",
       "      <td>7.522</td>\n",
       "      <td>0.03880</td>\n",
       "      <td>1.45900</td>\n",
       "      <td>1.33095</td>\n",
       "      <td>0.88521</td>\n",
       "      <td>0.66973</td>\n",
       "      <td>0.36503</td>\n",
       "      <td>0.34699</td>\n",
       "      <td>2.46531</td>\n",
       "    </tr>\n",
       "    <tr>\n",
       "      <th>4</th>\n",
       "      <td>Canada</td>\n",
       "      <td>North America</td>\n",
       "      <td>5</td>\n",
       "      <td>7.427</td>\n",
       "      <td>0.03553</td>\n",
       "      <td>1.32629</td>\n",
       "      <td>1.32261</td>\n",
       "      <td>0.90563</td>\n",
       "      <td>0.63297</td>\n",
       "      <td>0.32957</td>\n",
       "      <td>0.45811</td>\n",
       "      <td>2.45176</td>\n",
       "    </tr>\n",
       "  </tbody>\n",
       "</table>\n",
       "</div>"
      ],
      "text/plain": [
       "       Country          Region  Happiness Rank  Happiness Score  \\\n",
       "0  Switzerland  Western Europe               1            7.587   \n",
       "1      Iceland  Western Europe               2            7.561   \n",
       "2      Denmark  Western Europe               3            7.527   \n",
       "3       Norway  Western Europe               4            7.522   \n",
       "4       Canada   North America               5            7.427   \n",
       "\n",
       "   Standard Error  Economy (GDP per Capita)   Family  \\\n",
       "0         0.03411                   1.39651  1.34951   \n",
       "1         0.04884                   1.30232  1.40223   \n",
       "2         0.03328                   1.32548  1.36058   \n",
       "3         0.03880                   1.45900  1.33095   \n",
       "4         0.03553                   1.32629  1.32261   \n",
       "\n",
       "   Health (Life Expectancy)  Freedom  Trust (Government Corruption)  \\\n",
       "0                   0.94143  0.66557                        0.41978   \n",
       "1                   0.94784  0.62877                        0.14145   \n",
       "2                   0.87464  0.64938                        0.48357   \n",
       "3                   0.88521  0.66973                        0.36503   \n",
       "4                   0.90563  0.63297                        0.32957   \n",
       "\n",
       "   Generosity  Dystopia Residual  \n",
       "0     0.29678            2.51738  \n",
       "1     0.43630            2.70201  \n",
       "2     0.34139            2.49204  \n",
       "3     0.34699            2.46531  \n",
       "4     0.45811            2.45176  "
      ]
     },
     "execution_count": 2,
     "metadata": {},
     "output_type": "execute_result"
    }
   ],
   "source": [
    "# Load 2015 data\n",
    "data_2015 = pd.read_csv(r'C:\\FINAL\\WHR\\dataset\\2015.csv')\n",
    "# Display the first few rows of the DataFrame\n",
    "data_2015.head()"
   ]
  },
  {
   "cell_type": "code",
   "execution_count": 3,
   "metadata": {},
   "outputs": [],
   "source": [
    "# Check for missing values\n",
    "missing_values_2015 = data_2015.isnull().sum()"
   ]
  },
  {
   "cell_type": "code",
   "execution_count": 4,
   "metadata": {},
   "outputs": [
    {
     "name": "stdout",
     "output_type": "stream",
     "text": [
      "Missing Values (2015):\n",
      "Country                          0\n",
      "Region                           0\n",
      "Happiness Rank                   0\n",
      "Happiness Score                  0\n",
      "Standard Error                   0\n",
      "Economy (GDP per Capita)         0\n",
      "Family                           0\n",
      "Health (Life Expectancy)         0\n",
      "Freedom                          0\n",
      "Trust (Government Corruption)    0\n",
      "Generosity                       0\n",
      "Dystopia Residual                0\n",
      "dtype: int64\n"
     ]
    }
   ],
   "source": [
    "# Display missing values (if any)\n",
    "print(\"Missing Values (2015):\")\n",
    "print(missing_values_2015)"
   ]
  },
  {
   "cell_type": "code",
   "execution_count": 10,
   "metadata": {},
   "outputs": [
    {
     "data": {
      "text/html": [
       "<div>\n",
       "<style scoped>\n",
       "    .dataframe tbody tr th:only-of-type {\n",
       "        vertical-align: middle;\n",
       "    }\n",
       "\n",
       "    .dataframe tbody tr th {\n",
       "        vertical-align: top;\n",
       "    }\n",
       "\n",
       "    .dataframe thead th {\n",
       "        text-align: right;\n",
       "    }\n",
       "</style>\n",
       "<table border=\"1\" class=\"dataframe\">\n",
       "  <thead>\n",
       "    <tr style=\"text-align: right;\">\n",
       "      <th></th>\n",
       "      <th>Country</th>\n",
       "      <th>Region</th>\n",
       "      <th>Happiness Rank</th>\n",
       "      <th>Happiness Score</th>\n",
       "      <th>Standard Error</th>\n",
       "      <th>Economy (GDP per Capita)</th>\n",
       "      <th>Family (Social Support)</th>\n",
       "      <th>Health (Life Expectancy)</th>\n",
       "      <th>Freedom</th>\n",
       "      <th>Trust (Government Corruption)</th>\n",
       "      <th>Generosity</th>\n",
       "      <th>Dystopia Residual</th>\n",
       "      <th>Year</th>\n",
       "    </tr>\n",
       "  </thead>\n",
       "  <tbody>\n",
       "    <tr>\n",
       "      <th>0</th>\n",
       "      <td>Switzerland</td>\n",
       "      <td>Western Europe</td>\n",
       "      <td>1</td>\n",
       "      <td>7.587</td>\n",
       "      <td>0.03411</td>\n",
       "      <td>1.39651</td>\n",
       "      <td>1.34951</td>\n",
       "      <td>0.94143</td>\n",
       "      <td>0.66557</td>\n",
       "      <td>0.41978</td>\n",
       "      <td>0.29678</td>\n",
       "      <td>2.51738</td>\n",
       "      <td>2015</td>\n",
       "    </tr>\n",
       "    <tr>\n",
       "      <th>1</th>\n",
       "      <td>Iceland</td>\n",
       "      <td>Western Europe</td>\n",
       "      <td>2</td>\n",
       "      <td>7.561</td>\n",
       "      <td>0.04884</td>\n",
       "      <td>1.30232</td>\n",
       "      <td>1.40223</td>\n",
       "      <td>0.94784</td>\n",
       "      <td>0.62877</td>\n",
       "      <td>0.14145</td>\n",
       "      <td>0.43630</td>\n",
       "      <td>2.70201</td>\n",
       "      <td>2015</td>\n",
       "    </tr>\n",
       "    <tr>\n",
       "      <th>2</th>\n",
       "      <td>Denmark</td>\n",
       "      <td>Western Europe</td>\n",
       "      <td>3</td>\n",
       "      <td>7.527</td>\n",
       "      <td>0.03328</td>\n",
       "      <td>1.32548</td>\n",
       "      <td>1.36058</td>\n",
       "      <td>0.87464</td>\n",
       "      <td>0.64938</td>\n",
       "      <td>0.48357</td>\n",
       "      <td>0.34139</td>\n",
       "      <td>2.49204</td>\n",
       "      <td>2015</td>\n",
       "    </tr>\n",
       "    <tr>\n",
       "      <th>3</th>\n",
       "      <td>Norway</td>\n",
       "      <td>Western Europe</td>\n",
       "      <td>4</td>\n",
       "      <td>7.522</td>\n",
       "      <td>0.03880</td>\n",
       "      <td>1.45900</td>\n",
       "      <td>1.33095</td>\n",
       "      <td>0.88521</td>\n",
       "      <td>0.66973</td>\n",
       "      <td>0.36503</td>\n",
       "      <td>0.34699</td>\n",
       "      <td>2.46531</td>\n",
       "      <td>2015</td>\n",
       "    </tr>\n",
       "    <tr>\n",
       "      <th>4</th>\n",
       "      <td>Canada</td>\n",
       "      <td>North America</td>\n",
       "      <td>5</td>\n",
       "      <td>7.427</td>\n",
       "      <td>0.03553</td>\n",
       "      <td>1.32629</td>\n",
       "      <td>1.32261</td>\n",
       "      <td>0.90563</td>\n",
       "      <td>0.63297</td>\n",
       "      <td>0.32957</td>\n",
       "      <td>0.45811</td>\n",
       "      <td>2.45176</td>\n",
       "      <td>2015</td>\n",
       "    </tr>\n",
       "  </tbody>\n",
       "</table>\n",
       "</div>"
      ],
      "text/plain": [
       "       Country          Region  Happiness Rank  Happiness Score  \\\n",
       "0  Switzerland  Western Europe               1            7.587   \n",
       "1      Iceland  Western Europe               2            7.561   \n",
       "2      Denmark  Western Europe               3            7.527   \n",
       "3       Norway  Western Europe               4            7.522   \n",
       "4       Canada   North America               5            7.427   \n",
       "\n",
       "   Standard Error  Economy (GDP per Capita)  Family (Social Support)  \\\n",
       "0         0.03411                   1.39651                  1.34951   \n",
       "1         0.04884                   1.30232                  1.40223   \n",
       "2         0.03328                   1.32548                  1.36058   \n",
       "3         0.03880                   1.45900                  1.33095   \n",
       "4         0.03553                   1.32629                  1.32261   \n",
       "\n",
       "   Health (Life Expectancy)  Freedom  Trust (Government Corruption)  \\\n",
       "0                   0.94143  0.66557                        0.41978   \n",
       "1                   0.94784  0.62877                        0.14145   \n",
       "2                   0.87464  0.64938                        0.48357   \n",
       "3                   0.88521  0.66973                        0.36503   \n",
       "4                   0.90563  0.63297                        0.32957   \n",
       "\n",
       "   Generosity  Dystopia Residual  Year  \n",
       "0     0.29678            2.51738  2015  \n",
       "1     0.43630            2.70201  2015  \n",
       "2     0.34139            2.49204  2015  \n",
       "3     0.34699            2.46531  2015  \n",
       "4     0.45811            2.45176  2015  "
      ]
     },
     "execution_count": 10,
     "metadata": {},
     "output_type": "execute_result"
    }
   ],
   "source": [
    "# Rename columns\n",
    "data_2015 = data_2015.rename(columns={\n",
    "    'Country': 'Country',\n",
    "    'Region': 'Region',\n",
    "    'Happiness Rank': 'Happiness Rank',\n",
    "    'Happiness Score': 'Happiness Score',\n",
    "    'Economy (GDP per Capita)': 'Economy (GDP per Capita)',\n",
    "    'Trust (Government Corruption)': 'Trust (Government Corruption)',\n",
    "    'Health (Life Expectancy)': 'Health (Life Expectancy)',\n",
    "    'Family': 'Family (Social Support)',\n",
    "    'Freedom': 'Freedom',\n",
    "    'Generosity': 'Generosity',\n",
    "    'Dystopia Residual': 'Dystopia Residual',\n",
    "    'Standard Error' : 'Standard Error'\n",
    "})\n",
    "\n",
    "# Add the 'Year' column\n",
    "data_2015['Year'] = 2015\n",
    "\n",
    "# Display the updated DataFrame\n",
    "data_2015.head()"
   ]
  },
  {
   "cell_type": "code",
   "execution_count": 11,
   "metadata": {},
   "outputs": [
    {
     "data": {
      "text/plain": [
       "Country                          0\n",
       "Region                           0\n",
       "Happiness Rank                   0\n",
       "Happiness Score                  0\n",
       "Lower Confidence Interval        0\n",
       "Upper Confidence Interval        0\n",
       "Economy (GDP per Capita)         0\n",
       "Family                           0\n",
       "Health (Life Expectancy)         0\n",
       "Freedom                          0\n",
       "Trust (Government Corruption)    0\n",
       "Generosity                       0\n",
       "Dystopia Residual                0\n",
       "dtype: int64"
      ]
     },
     "execution_count": 11,
     "metadata": {},
     "output_type": "execute_result"
    }
   ],
   "source": [
    "# Read the 2016 data\n",
    "data_2016 = pd.read_csv(r'C:\\FINAL\\WHR\\dataset\\2016.csv')\n",
    "# Display the first few rows to understand the structure\n",
    "data_2016.head()\n",
    "# Check for missing values\n",
    "data_2016.isnull().sum()"
   ]
  },
  {
   "cell_type": "code",
   "execution_count": 17,
   "metadata": {},
   "outputs": [
    {
     "data": {
      "text/html": [
       "<div>\n",
       "<style scoped>\n",
       "    .dataframe tbody tr th:only-of-type {\n",
       "        vertical-align: middle;\n",
       "    }\n",
       "\n",
       "    .dataframe tbody tr th {\n",
       "        vertical-align: top;\n",
       "    }\n",
       "\n",
       "    .dataframe thead th {\n",
       "        text-align: right;\n",
       "    }\n",
       "</style>\n",
       "<table border=\"1\" class=\"dataframe\">\n",
       "  <thead>\n",
       "    <tr style=\"text-align: right;\">\n",
       "      <th></th>\n",
       "      <th>Country</th>\n",
       "      <th>Region</th>\n",
       "      <th>Happiness Rank</th>\n",
       "      <th>Happiness Score</th>\n",
       "      <th>Standard Error</th>\n",
       "      <th>Economy (GDP per Capita)</th>\n",
       "      <th>Family (Social Support)</th>\n",
       "      <th>Health (Life Expectancy)</th>\n",
       "      <th>Freedom</th>\n",
       "      <th>Trust (Government Corruption)</th>\n",
       "      <th>Generosity</th>\n",
       "      <th>Dystopia Residual</th>\n",
       "      <th>Year</th>\n",
       "      <th>Lower Confidence Interval</th>\n",
       "      <th>Upper Confidence Interval</th>\n",
       "    </tr>\n",
       "  </thead>\n",
       "  <tbody>\n",
       "    <tr>\n",
       "      <th>0</th>\n",
       "      <td>Switzerland</td>\n",
       "      <td>Western Europe</td>\n",
       "      <td>1</td>\n",
       "      <td>7.587</td>\n",
       "      <td>0.03411</td>\n",
       "      <td>1.39651</td>\n",
       "      <td>1.34951</td>\n",
       "      <td>0.94143</td>\n",
       "      <td>0.66557</td>\n",
       "      <td>0.41978</td>\n",
       "      <td>0.29678</td>\n",
       "      <td>2.51738</td>\n",
       "      <td>2015</td>\n",
       "      <td>7.520144</td>\n",
       "      <td>7.653856</td>\n",
       "    </tr>\n",
       "    <tr>\n",
       "      <th>1</th>\n",
       "      <td>Iceland</td>\n",
       "      <td>Western Europe</td>\n",
       "      <td>2</td>\n",
       "      <td>7.561</td>\n",
       "      <td>0.04884</td>\n",
       "      <td>1.30232</td>\n",
       "      <td>1.40223</td>\n",
       "      <td>0.94784</td>\n",
       "      <td>0.62877</td>\n",
       "      <td>0.14145</td>\n",
       "      <td>0.43630</td>\n",
       "      <td>2.70201</td>\n",
       "      <td>2015</td>\n",
       "      <td>7.465274</td>\n",
       "      <td>7.656726</td>\n",
       "    </tr>\n",
       "    <tr>\n",
       "      <th>2</th>\n",
       "      <td>Denmark</td>\n",
       "      <td>Western Europe</td>\n",
       "      <td>3</td>\n",
       "      <td>7.527</td>\n",
       "      <td>0.03328</td>\n",
       "      <td>1.32548</td>\n",
       "      <td>1.36058</td>\n",
       "      <td>0.87464</td>\n",
       "      <td>0.64938</td>\n",
       "      <td>0.48357</td>\n",
       "      <td>0.34139</td>\n",
       "      <td>2.49204</td>\n",
       "      <td>2015</td>\n",
       "      <td>7.461771</td>\n",
       "      <td>7.592229</td>\n",
       "    </tr>\n",
       "    <tr>\n",
       "      <th>3</th>\n",
       "      <td>Norway</td>\n",
       "      <td>Western Europe</td>\n",
       "      <td>4</td>\n",
       "      <td>7.522</td>\n",
       "      <td>0.03880</td>\n",
       "      <td>1.45900</td>\n",
       "      <td>1.33095</td>\n",
       "      <td>0.88521</td>\n",
       "      <td>0.66973</td>\n",
       "      <td>0.36503</td>\n",
       "      <td>0.34699</td>\n",
       "      <td>2.46531</td>\n",
       "      <td>2015</td>\n",
       "      <td>7.445952</td>\n",
       "      <td>7.598048</td>\n",
       "    </tr>\n",
       "    <tr>\n",
       "      <th>4</th>\n",
       "      <td>Canada</td>\n",
       "      <td>North America</td>\n",
       "      <td>5</td>\n",
       "      <td>7.427</td>\n",
       "      <td>0.03553</td>\n",
       "      <td>1.32629</td>\n",
       "      <td>1.32261</td>\n",
       "      <td>0.90563</td>\n",
       "      <td>0.63297</td>\n",
       "      <td>0.32957</td>\n",
       "      <td>0.45811</td>\n",
       "      <td>2.45176</td>\n",
       "      <td>2015</td>\n",
       "      <td>7.357361</td>\n",
       "      <td>7.496639</td>\n",
       "    </tr>\n",
       "  </tbody>\n",
       "</table>\n",
       "</div>"
      ],
      "text/plain": [
       "       Country          Region  Happiness Rank  Happiness Score  \\\n",
       "0  Switzerland  Western Europe               1            7.587   \n",
       "1      Iceland  Western Europe               2            7.561   \n",
       "2      Denmark  Western Europe               3            7.527   \n",
       "3       Norway  Western Europe               4            7.522   \n",
       "4       Canada   North America               5            7.427   \n",
       "\n",
       "   Standard Error  Economy (GDP per Capita)  Family (Social Support)  \\\n",
       "0         0.03411                   1.39651                  1.34951   \n",
       "1         0.04884                   1.30232                  1.40223   \n",
       "2         0.03328                   1.32548                  1.36058   \n",
       "3         0.03880                   1.45900                  1.33095   \n",
       "4         0.03553                   1.32629                  1.32261   \n",
       "\n",
       "   Health (Life Expectancy)  Freedom  Trust (Government Corruption)  \\\n",
       "0                   0.94143  0.66557                        0.41978   \n",
       "1                   0.94784  0.62877                        0.14145   \n",
       "2                   0.87464  0.64938                        0.48357   \n",
       "3                   0.88521  0.66973                        0.36503   \n",
       "4                   0.90563  0.63297                        0.32957   \n",
       "\n",
       "   Generosity  Dystopia Residual  Year  Lower Confidence Interval  \\\n",
       "0     0.29678            2.51738  2015                   7.520144   \n",
       "1     0.43630            2.70201  2015                   7.465274   \n",
       "2     0.34139            2.49204  2015                   7.461771   \n",
       "3     0.34699            2.46531  2015                   7.445952   \n",
       "4     0.45811            2.45176  2015                   7.357361   \n",
       "\n",
       "   Upper Confidence Interval  \n",
       "0                   7.653856  \n",
       "1                   7.656726  \n",
       "2                   7.592229  \n",
       "3                   7.598048  \n",
       "4                   7.496639  "
      ]
     },
     "execution_count": 17,
     "metadata": {},
     "output_type": "execute_result"
    }
   ],
   "source": [
    "# Calculate 'Lower Confidence Interval' and 'Upper Confidence Interval' from 'Standard Error' in the 2015 dataset\n",
    "\n",
    "z_score = 1.96  # Z-Score for a 95% confidence interval\n",
    "# Calculate the margin of error\n",
    "data_2015['Margin of Error'] = z_score * data_2015['Standard Error']\n",
    "\n",
    "# Calculate 'Lower Confidence Interval'\n",
    "data_2015['Lower Confidence Interval'] = data_2015['Happiness Score'] - data_2015['Margin of Error']\n",
    "\n",
    "# Calculate 'Upper Confidence Interval'\n",
    "data_2015['Upper Confidence Interval'] = data_2015['Happiness Score'] + data_2015['Margin of Error']\n",
    "\n",
    "# Drop the 'Margin of Error' column\n",
    "data_2015 = data_2015.drop('Margin of Error', axis=1)\n",
    "\n",
    "# Display the updated dataset\n",
    "data_2015.head()\n"
   ]
  },
  {
   "cell_type": "code",
   "execution_count": 19,
   "metadata": {},
   "outputs": [
    {
     "name": "stdout",
     "output_type": "stream",
     "text": [
      "Standard Error for 2016: 0.0911154660741031\n",
      "       Country          Region  Happiness Rank  Happiness Score  \\\n",
      "0      Denmark  Western Europe               1            7.526   \n",
      "1  Switzerland  Western Europe               2            7.509   \n",
      "2      Iceland  Western Europe               3            7.501   \n",
      "3       Norway  Western Europe               4            7.498   \n",
      "4      Finland  Western Europe               5            7.413   \n",
      "\n",
      "   Lower Confidence Interval  Upper Confidence Interval  \\\n",
      "0                      7.460                      7.592   \n",
      "1                      7.428                      7.590   \n",
      "2                      7.333                      7.669   \n",
      "3                      7.421                      7.575   \n",
      "4                      7.351                      7.475   \n",
      "\n",
      "   Economy (GDP per Capita)   Family  Health (Life Expectancy)  Freedom  \\\n",
      "0                   1.44178  1.16374                   0.79504  0.57941   \n",
      "1                   1.52733  1.14524                   0.86303  0.58557   \n",
      "2                   1.42666  1.18326                   0.86733  0.56624   \n",
      "3                   1.57744  1.12690                   0.79579  0.59609   \n",
      "4                   1.40598  1.13464                   0.81091  0.57104   \n",
      "\n",
      "   Trust (Government Corruption)  Generosity  Dystopia Residual  \\\n",
      "0                        0.44453     0.36171            2.73939   \n",
      "1                        0.41203     0.28083            2.69463   \n",
      "2                        0.14975     0.47678            2.83137   \n",
      "3                        0.35776     0.37895            2.66465   \n",
      "4                        0.41004     0.25492            2.82596   \n",
      "\n",
      "   Standard Error  \n",
      "0        0.091115  \n",
      "1        0.091115  \n",
      "2        0.091115  \n",
      "3        0.091115  \n",
      "4        0.091115  \n"
     ]
    }
   ],
   "source": [
    "# Calculate the 'Standard Error' for 2016 from 'Happiness Score' in 2016 dataset\n",
    "happiness_scores_2016 = data_2016['Happiness Score']\n",
    "\n",
    "# Calculate the sample standard deviation\n",
    "sample_std_dev = np.std(happiness_scores_2016, ddof=1)\n",
    "\n",
    "# Assuming you have the number of observations (sample size)\n",
    "sample_size = len(happiness_scores_2016)\n",
    "\n",
    "# Calculate the 'Standard Error'\n",
    "standard_error_2016 = sample_std_dev / np.sqrt(sample_size)\n",
    "\n",
    "# Display the calculated 'Standard Error'\n",
    "print(\"Standard Error for 2016:\", standard_error_2016)\n",
    "\n",
    "# Add a new column 'Standard Error' to DataFrame\n",
    "data_2016['Standard Error'] = standard_error_2016\n",
    "\n",
    "# Display the updated DataFrame\n",
    "print(data_2016.head())"
   ]
  },
  {
   "cell_type": "code",
   "execution_count": 20,
   "metadata": {},
   "outputs": [],
   "source": [
    "data_2016['Standard Error'] = data_2016['Standard Error'].fillna(0)"
   ]
  },
  {
   "cell_type": "code",
   "execution_count": 21,
   "metadata": {},
   "outputs": [
    {
     "name": "stdout",
     "output_type": "stream",
     "text": [
      "       Country          Region  Happiness Rank  Happiness Score  \\\n",
      "0      Denmark  Western Europe               1            7.526   \n",
      "1  Switzerland  Western Europe               2            7.509   \n",
      "2      Iceland  Western Europe               3            7.501   \n",
      "3       Norway  Western Europe               4            7.498   \n",
      "4      Finland  Western Europe               5            7.413   \n",
      "\n",
      "   Lower Confidence Interval  Upper Confidence Interval  \\\n",
      "0                      7.460                      7.592   \n",
      "1                      7.428                      7.590   \n",
      "2                      7.333                      7.669   \n",
      "3                      7.421                      7.575   \n",
      "4                      7.351                      7.475   \n",
      "\n",
      "   Economy (GDP per Capita)   Family  Health (Life Expectancy)  Freedom  \\\n",
      "0                   1.44178  1.16374                   0.79504  0.57941   \n",
      "1                   1.52733  1.14524                   0.86303  0.58557   \n",
      "2                   1.42666  1.18326                   0.86733  0.56624   \n",
      "3                   1.57744  1.12690                   0.79579  0.59609   \n",
      "4                   1.40598  1.13464                   0.81091  0.57104   \n",
      "\n",
      "   Trust (Government Corruption)  Generosity  Dystopia Residual  \\\n",
      "0                        0.44453     0.36171            2.73939   \n",
      "1                        0.41203     0.28083            2.69463   \n",
      "2                        0.14975     0.47678            2.83137   \n",
      "3                        0.35776     0.37895            2.66465   \n",
      "4                        0.41004     0.25492            2.82596   \n",
      "\n",
      "   Standard Error  \n",
      "0        0.091115  \n",
      "1        0.091115  \n",
      "2        0.091115  \n",
      "3        0.091115  \n",
      "4        0.091115  \n"
     ]
    }
   ],
   "source": [
    "# Display the updated DataFrame\n",
    "print(data_2016.head())"
   ]
  },
  {
   "cell_type": "code",
   "execution_count": 23,
   "metadata": {},
   "outputs": [],
   "source": [
    "data_2016['Standard Error'] = data_2016.groupby('Country')['Happiness Score'].transform('std')\n"
   ]
  },
  {
   "cell_type": "code",
   "execution_count": 24,
   "metadata": {},
   "outputs": [
    {
     "name": "stdout",
     "output_type": "stream",
     "text": [
      "       Country          Region  Happiness Rank  Happiness Score  \\\n",
      "0      Denmark  Western Europe               1            7.526   \n",
      "1  Switzerland  Western Europe               2            7.509   \n",
      "2      Iceland  Western Europe               3            7.501   \n",
      "3       Norway  Western Europe               4            7.498   \n",
      "4      Finland  Western Europe               5            7.413   \n",
      "\n",
      "   Lower Confidence Interval  Upper Confidence Interval  \\\n",
      "0                      7.460                      7.592   \n",
      "1                      7.428                      7.590   \n",
      "2                      7.333                      7.669   \n",
      "3                      7.421                      7.575   \n",
      "4                      7.351                      7.475   \n",
      "\n",
      "   Economy (GDP per Capita)   Family  Health (Life Expectancy)  Freedom  \\\n",
      "0                   1.44178  1.16374                   0.79504  0.57941   \n",
      "1                   1.52733  1.14524                   0.86303  0.58557   \n",
      "2                   1.42666  1.18326                   0.86733  0.56624   \n",
      "3                   1.57744  1.12690                   0.79579  0.59609   \n",
      "4                   1.40598  1.13464                   0.81091  0.57104   \n",
      "\n",
      "   Trust (Government Corruption)  Generosity  Dystopia Residual  \\\n",
      "0                        0.44453     0.36171            2.73939   \n",
      "1                        0.41203     0.28083            2.69463   \n",
      "2                        0.14975     0.47678            2.83137   \n",
      "3                        0.35776     0.37895            2.66465   \n",
      "4                        0.41004     0.25492            2.82596   \n",
      "\n",
      "   Standard Error  \n",
      "0             NaN  \n",
      "1             NaN  \n",
      "2             NaN  \n",
      "3             NaN  \n",
      "4             NaN  \n"
     ]
    }
   ],
   "source": [
    "# Display the updated DataFrame\n",
    "print(data_2016.head())\n"
   ]
  },
  {
   "cell_type": "code",
   "execution_count": 25,
   "metadata": {},
   "outputs": [],
   "source": [
    "# SE from 'Lower Confidence Interval' and 'Upper Confidence Interval'\n",
    "Z = 1.96  # Z-score for a 95% confidence interval\n",
    "data_2016['Standard Error'] = (data_2016['Upper Confidence Interval'] - data_2016['Lower Confidence Interval']) / (2 * Z)"
   ]
  },
  {
   "cell_type": "code",
   "execution_count": 26,
   "metadata": {},
   "outputs": [
    {
     "name": "stdout",
     "output_type": "stream",
     "text": [
      "       Country          Region  Happiness Rank  Happiness Score  \\\n",
      "0      Denmark  Western Europe               1            7.526   \n",
      "1  Switzerland  Western Europe               2            7.509   \n",
      "2      Iceland  Western Europe               3            7.501   \n",
      "3       Norway  Western Europe               4            7.498   \n",
      "4      Finland  Western Europe               5            7.413   \n",
      "\n",
      "   Lower Confidence Interval  Upper Confidence Interval  \\\n",
      "0                      7.460                      7.592   \n",
      "1                      7.428                      7.590   \n",
      "2                      7.333                      7.669   \n",
      "3                      7.421                      7.575   \n",
      "4                      7.351                      7.475   \n",
      "\n",
      "   Economy (GDP per Capita)   Family  Health (Life Expectancy)  Freedom  \\\n",
      "0                   1.44178  1.16374                   0.79504  0.57941   \n",
      "1                   1.52733  1.14524                   0.86303  0.58557   \n",
      "2                   1.42666  1.18326                   0.86733  0.56624   \n",
      "3                   1.57744  1.12690                   0.79579  0.59609   \n",
      "4                   1.40598  1.13464                   0.81091  0.57104   \n",
      "\n",
      "   Trust (Government Corruption)  Generosity  Dystopia Residual  \\\n",
      "0                        0.44453     0.36171            2.73939   \n",
      "1                        0.41203     0.28083            2.69463   \n",
      "2                        0.14975     0.47678            2.83137   \n",
      "3                        0.35776     0.37895            2.66465   \n",
      "4                        0.41004     0.25492            2.82596   \n",
      "\n",
      "   Standard Error  \n",
      "0        0.033673  \n",
      "1        0.041327  \n",
      "2        0.085714  \n",
      "3        0.039286  \n",
      "4        0.031633  \n"
     ]
    }
   ],
   "source": [
    "# Display the updated DataFrame\n",
    "print(data_2016.head())"
   ]
  },
  {
   "cell_type": "code",
   "execution_count": 27,
   "metadata": {},
   "outputs": [
    {
     "name": "stdout",
     "output_type": "stream",
     "text": [
      "       Country          Region  Happiness Rank  Happiness Score  \\\n",
      "0  Switzerland  Western Europe               1            7.587   \n",
      "1      Iceland  Western Europe               2            7.561   \n",
      "2      Denmark  Western Europe               3            7.527   \n",
      "3       Norway  Western Europe               4            7.522   \n",
      "4       Canada   North America               5            7.427   \n",
      "\n",
      "   Standard Error  Economy (GDP per Capita)  Family (Social Support)  \\\n",
      "0         0.03411                   1.39651                  1.34951   \n",
      "1         0.04884                   1.30232                  1.40223   \n",
      "2         0.03328                   1.32548                  1.36058   \n",
      "3         0.03880                   1.45900                  1.33095   \n",
      "4         0.03553                   1.32629                  1.32261   \n",
      "\n",
      "   Health (Life Expectancy)  Freedom  Trust (Government Corruption)  \\\n",
      "0                   0.94143  0.66557                        0.41978   \n",
      "1                   0.94784  0.62877                        0.14145   \n",
      "2                   0.87464  0.64938                        0.48357   \n",
      "3                   0.88521  0.66973                        0.36503   \n",
      "4                   0.90563  0.63297                        0.32957   \n",
      "\n",
      "   Generosity  Dystopia Residual  Year  Lower Confidence Interval  \\\n",
      "0     0.29678            2.51738  2015                   7.520144   \n",
      "1     0.43630            2.70201  2015                   7.465274   \n",
      "2     0.34139            2.49204  2015                   7.461771   \n",
      "3     0.34699            2.46531  2015                   7.445952   \n",
      "4     0.45811            2.45176  2015                   7.357361   \n",
      "\n",
      "   Upper Confidence Interval  \n",
      "0                   7.653856  \n",
      "1                   7.656726  \n",
      "2                   7.592229  \n",
      "3                   7.598048  \n",
      "4                   7.496639  \n"
     ]
    }
   ],
   "source": [
    "print(data_2015.head())"
   ]
  },
  {
   "cell_type": "code",
   "execution_count": 28,
   "metadata": {},
   "outputs": [],
   "source": [
    "data_2016 = data_2016.rename(columns={'Family': 'Family (Social Support)'})"
   ]
  },
  {
   "cell_type": "code",
   "execution_count": 47,
   "metadata": {},
   "outputs": [],
   "source": [
    "# Add the 'Year' column\n",
    "data_2016['Year'] = 2016"
   ]
  },
  {
   "cell_type": "code",
   "execution_count": 48,
   "metadata": {},
   "outputs": [
    {
     "name": "stdout",
     "output_type": "stream",
     "text": [
      "       Country          Region  Happiness Rank  Happiness Score  \\\n",
      "0      Denmark  Western Europe               1            7.526   \n",
      "1  Switzerland  Western Europe               2            7.509   \n",
      "2      Iceland  Western Europe               3            7.501   \n",
      "3       Norway  Western Europe               4            7.498   \n",
      "4      Finland  Western Europe               5            7.413   \n",
      "\n",
      "   Lower Confidence Interval  Upper Confidence Interval  \\\n",
      "0                      7.460                      7.592   \n",
      "1                      7.428                      7.590   \n",
      "2                      7.333                      7.669   \n",
      "3                      7.421                      7.575   \n",
      "4                      7.351                      7.475   \n",
      "\n",
      "   Economy (GDP per Capita)  Family (Social Support)  \\\n",
      "0                   1.44178                  1.16374   \n",
      "1                   1.52733                  1.14524   \n",
      "2                   1.42666                  1.18326   \n",
      "3                   1.57744                  1.12690   \n",
      "4                   1.40598                  1.13464   \n",
      "\n",
      "   Health (Life Expectancy)  Freedom  Trust (Government Corruption)  \\\n",
      "0                   0.79504  0.57941                        0.44453   \n",
      "1                   0.86303  0.58557                        0.41203   \n",
      "2                   0.86733  0.56624                        0.14975   \n",
      "3                   0.79579  0.59609                        0.35776   \n",
      "4                   0.81091  0.57104                        0.41004   \n",
      "\n",
      "   Generosity  Dystopia Residual  Standard Error  Year  \n",
      "0     0.36171            2.73939        0.033673  2016  \n",
      "1     0.28083            2.69463        0.041327  2016  \n",
      "2     0.47678            2.83137        0.085714  2016  \n",
      "3     0.37895            2.66465        0.039286  2016  \n",
      "4     0.25492            2.82596        0.031633  2016  \n"
     ]
    }
   ],
   "source": [
    "print(data_2016.head())"
   ]
  },
  {
   "cell_type": "code",
   "execution_count": 49,
   "metadata": {},
   "outputs": [
    {
     "data": {
      "text/plain": [
       "Country                          0\n",
       "Happiness.Rank                   0\n",
       "Happiness.Score                  0\n",
       "Whisker.high                     0\n",
       "Whisker.low                      0\n",
       "Economy..GDP.per.Capita.         0\n",
       "Family                           0\n",
       "Health..Life.Expectancy.         0\n",
       "Freedom                          0\n",
       "Generosity                       0\n",
       "Trust..Government.Corruption.    0\n",
       "Dystopia.Residual                0\n",
       "dtype: int64"
      ]
     },
     "execution_count": 49,
     "metadata": {},
     "output_type": "execute_result"
    }
   ],
   "source": [
    "# Read the 2017 data\n",
    "data_2017 = pd.read_csv(r'C:\\FINAL\\WHR\\dataset\\2017.csv')\n",
    "# Display the first few rows to understand the structure\n",
    "data_2017.head()\n",
    "# Check for missing values\n",
    "data_2017.isnull().sum()"
   ]
  },
  {
   "cell_type": "code",
   "execution_count": 50,
   "metadata": {},
   "outputs": [],
   "source": [
    "# Rename Cols\n",
    "data_2017 = data_2017.rename(columns={\n",
    "    'Happiness.Rank': 'Happiness Rank',\n",
    "    'Happiness.Score': 'Happiness Score',\n",
    "    'Whisker.high': 'Upper Confidence Interval',\n",
    "    'Whisker.low': 'Lower Confidence Interval',\n",
    "    'Economy..GDP.per.Capita.': 'Economy (GDP per Capita)',\n",
    "    'Health..Life.Expectancy.': 'Health (Life Expectancy)',\n",
    "    'Family': 'Family (Social Support)',\n",
    "    'Freedom': 'Freedom',\n",
    "    'Trust..Government.Corruption.': 'Trust (Government Corruption)',\n",
    "    'Generosity': 'Generosity',\n",
    "    'Dystopia.Residual': 'Dystopia Residual'\n",
    "})"
   ]
  },
  {
   "cell_type": "code",
   "execution_count": 53,
   "metadata": {},
   "outputs": [],
   "source": [
    "# Add the 'Year' column\n",
    "data_2017['Year'] = 2017"
   ]
  },
  {
   "cell_type": "code",
   "execution_count": 55,
   "metadata": {},
   "outputs": [],
   "source": [
    "# SE from 'Lower Confidence Interval' and 'Upper Confidence Interval'\n",
    "\n",
    "Z = 1.96  # Z-score for a 95% confidence interval\n",
    "\n",
    "data_2017['Standard Error'] = (data_2017['Upper Confidence Interval'] - data_2017['Lower Confidence Interval']) / (2 * Z)"
   ]
  },
  {
   "cell_type": "code",
   "execution_count": 67,
   "metadata": {},
   "outputs": [
    {
     "data": {
      "text/plain": [
       "Country                          0\n",
       "Happiness Rank                   0\n",
       "Happiness Score                  0\n",
       "Upper Confidence Interval        0\n",
       "Lower Confidence Interval        0\n",
       "Economy (GDP per Capita)         0\n",
       "Family (Social Support)          0\n",
       "Health (Life Expectancy)         0\n",
       "Freedom                          0\n",
       "Generosity                       0\n",
       "Trust (Government Corruption)    0\n",
       "Dystopia Residual                0\n",
       "Year                             0\n",
       "Standard Error                   0\n",
       "dtype: int64"
      ]
     },
     "execution_count": 67,
     "metadata": {},
     "output_type": "execute_result"
    }
   ],
   "source": [
    "data_2017.head()\n",
    "data_2017.isnull().sum()"
   ]
  },
  {
   "cell_type": "code",
   "execution_count": 79,
   "metadata": {},
   "outputs": [
    {
     "data": {
      "text/plain": [
       "Overall rank                    0\n",
       "Country or region               0\n",
       "Score                           0\n",
       "GDP per capita                  0\n",
       "Social support                  0\n",
       "Healthy life expectancy         0\n",
       "Freedom to make life choices    0\n",
       "Generosity                      0\n",
       "Perceptions of corruption       1\n",
       "dtype: int64"
      ]
     },
     "execution_count": 79,
     "metadata": {},
     "output_type": "execute_result"
    }
   ],
   "source": [
    "# Read the 2018 data\n",
    "\n",
    "data_2018 = pd.read_csv(r'C:\\FINAL\\WHR\\dataset\\2018.csv')\n",
    "\n",
    "# Display the first few rows to understand the structure\n",
    "data_2018.head()\n",
    "\n",
    "# Check for missing values\n",
    "data_2018.isnull().sum()"
   ]
  },
  {
   "cell_type": "code",
   "execution_count": 62,
   "metadata": {},
   "outputs": [
    {
     "name": "stdout",
     "output_type": "stream",
     "text": [
      "Collecting scikit-learn\n",
      "  Obtaining dependency information for scikit-learn from https://files.pythonhosted.org/packages/4e/ba/ce9bd1cd4953336a0e213b29cb80bb11816f2a93de8c99f88ef0b446ad0c/scikit_learn-1.3.2-cp311-cp311-win_amd64.whl.metadata\n",
      "  Downloading scikit_learn-1.3.2-cp311-cp311-win_amd64.whl.metadata (11 kB)\n",
      "Requirement already satisfied: numpy<2.0,>=1.17.3 in c:\\users\\tiahf\\appdata\\local\\packages\\pythonsoftwarefoundation.python.3.11_qbz5n2kfra8p0\\localcache\\local-packages\\python311\\site-packages (from scikit-learn) (1.26.1)\n",
      "Requirement already satisfied: scipy>=1.5.0 in c:\\users\\tiahf\\appdata\\local\\packages\\pythonsoftwarefoundation.python.3.11_qbz5n2kfra8p0\\localcache\\local-packages\\python311\\site-packages (from scikit-learn) (1.11.3)\n",
      "Requirement already satisfied: joblib>=1.1.1 in c:\\users\\tiahf\\appdata\\local\\packages\\pythonsoftwarefoundation.python.3.11_qbz5n2kfra8p0\\localcache\\local-packages\\python311\\site-packages (from scikit-learn) (1.1.1)\n",
      "Collecting threadpoolctl>=2.0.0 (from scikit-learn)\n",
      "  Obtaining dependency information for threadpoolctl>=2.0.0 from https://files.pythonhosted.org/packages/81/12/fd4dea011af9d69e1cad05c75f3f7202cdcbeac9b712eea58ca779a72865/threadpoolctl-3.2.0-py3-none-any.whl.metadata\n",
      "  Downloading threadpoolctl-3.2.0-py3-none-any.whl.metadata (10.0 kB)\n",
      "Downloading scikit_learn-1.3.2-cp311-cp311-win_amd64.whl (9.2 MB)\n",
      "   ---------------------------------------- 0.0/9.2 MB ? eta -:--:--\n",
      "    --------------------------------------- 0.1/9.2 MB 2.4 MB/s eta 0:00:04\n",
      "   ---- ----------------------------------- 1.1/9.2 MB 14.6 MB/s eta 0:00:01\n",
      "   ---------------------- ----------------- 5.2/9.2 MB 36.5 MB/s eta 0:00:01\n",
      "   ---------------------------------------  9.2/9.2 MB 53.5 MB/s eta 0:00:01\n",
      "   ---------------------------------------- 9.2/9.2 MB 49.2 MB/s eta 0:00:00\n",
      "Downloading threadpoolctl-3.2.0-py3-none-any.whl (15 kB)\n",
      "Installing collected packages: threadpoolctl, scikit-learn\n",
      "Successfully installed scikit-learn-1.3.2 threadpoolctl-3.2.0\n",
      "Note: you may need to restart the kernel to use updated packages.\n"
     ]
    },
    {
     "name": "stderr",
     "output_type": "stream",
     "text": [
      "\n",
      "[notice] A new release of pip is available: 23.2.1 -> 23.3.1\n",
      "[notice] To update, run: C:\\Users\\tiahf\\AppData\\Local\\Microsoft\\WindowsApps\\PythonSoftwareFoundation.Python.3.11_qbz5n2kfra8p0\\python.exe -m pip install --upgrade pip\n"
     ]
    }
   ],
   "source": [
    "pip install scikit-learn"
   ]
  },
  {
   "cell_type": "code",
   "execution_count": 80,
   "metadata": {},
   "outputs": [],
   "source": [
    "from sklearn.impute import SimpleImputer"
   ]
  },
  {
   "cell_type": "code",
   "execution_count": 81,
   "metadata": {},
   "outputs": [],
   "source": [
    "# Create SimpleImputer Object\n",
    "imputer = SimpleImputer(strategy='mean')"
   ]
  },
  {
   "cell_type": "code",
   "execution_count": 82,
   "metadata": {},
   "outputs": [],
   "source": [
    "data_2018['Perceptions of corruption'] = imputer.fit_transform(data_2018[['Perceptions of corruption']])\n"
   ]
  },
  {
   "cell_type": "code",
   "execution_count": 83,
   "metadata": {},
   "outputs": [
    {
     "data": {
      "text/plain": [
       "Overall rank                    0\n",
       "Country or region               0\n",
       "Score                           0\n",
       "GDP per capita                  0\n",
       "Social support                  0\n",
       "Healthy life expectancy         0\n",
       "Freedom to make life choices    0\n",
       "Generosity                      0\n",
       "Perceptions of corruption       0\n",
       "dtype: int64"
      ]
     },
     "execution_count": 83,
     "metadata": {},
     "output_type": "execute_result"
    }
   ],
   "source": [
    "# Display the first few rows to understand the structure\n",
    "data_2018.head()\n",
    "\n",
    "# Check for missing values\n",
    "data_2018.isnull().sum()"
   ]
  },
  {
   "cell_type": "code",
   "execution_count": 84,
   "metadata": {},
   "outputs": [],
   "source": [
    "# Rename columns to make them consistent\n",
    "data_2018.rename(columns={\n",
    "    'Overall rank': 'Happiness Rank',\n",
    "    'Country or region': 'Country',\n",
    "    'Score': 'Happiness Score',\n",
    "    'GDP per capita': 'Economy (GDP per Capita)',\n",
    "    'Social support': 'Family (Social Support)',\n",
    "    'Healthy life expectancy': 'Health (Life Expectancy)',\n",
    "    'Freedom to make life choices': 'Freedom',\n",
    "    'Generosity': 'Generosity',\n",
    "    'Perceptions of corruption': 'Trust (Government Corruption)'\n",
    "}, inplace=True)"
   ]
  },
  {
   "cell_type": "code",
   "execution_count": 87,
   "metadata": {},
   "outputs": [],
   "source": [
    "# Load the country-region mapping dataset\n",
    "country_region_mapping = pd.read_csv(r'C:\\FINAL\\WHR\\dataset\\country_region_mapping.csv')"
   ]
  },
  {
   "cell_type": "code",
   "execution_count": 89,
   "metadata": {},
   "outputs": [
    {
     "name": "stdout",
     "output_type": "stream",
     "text": [
      "Index(['Happiness Rank', 'Country', 'Happiness Score',\n",
      "       'Economy (GDP per Capita)', 'Family (Social Support)',\n",
      "       'Health (Life Expectancy)', 'Freedom', 'Generosity',\n",
      "       'Trust (Government Corruption)', 'Region'],\n",
      "      dtype='object')\n"
     ]
    }
   ],
   "source": [
    "# Merge the datasets based on the 'Country' column\n",
    "merged_data = pd.merge(data_2018, country_region_mapping, on='Country', how='left')\n",
    "\n",
    "# Check the columns in the merged DataFrame\n",
    "print(merged_data.columns)"
   ]
  },
  {
   "cell_type": "code",
   "execution_count": 90,
   "metadata": {},
   "outputs": [
    {
     "name": "stdout",
     "output_type": "stream",
     "text": [
      "                      Country                           Region\n",
      "0                     Finland                   Western Europe\n",
      "1                      Norway                   Western Europe\n",
      "2                     Denmark                   Western Europe\n",
      "3                     Iceland                   Western Europe\n",
      "4                 Switzerland                   Western Europe\n",
      "..                        ...                              ...\n",
      "151                     Yemen  Middle East and Northern Africa\n",
      "152                  Tanzania               Sub-Saharan Africa\n",
      "153               South Sudan               Sub-Saharan Africa\n",
      "154  Central African Republic                              NaN\n",
      "155                   Burundi               Sub-Saharan Africa\n",
      "\n",
      "[156 rows x 2 columns]\n"
     ]
    }
   ],
   "source": [
    "print(merged_data[['Country', 'Region']])\n"
   ]
  },
  {
   "cell_type": "code",
   "execution_count": 91,
   "metadata": {},
   "outputs": [
    {
     "data": {
      "text/plain": [
       "Happiness Rank                   0\n",
       "Country                          0\n",
       "Happiness Score                  0\n",
       "Economy (GDP per Capita)         0\n",
       "Family (Social Support)          0\n",
       "Health (Life Expectancy)         0\n",
       "Freedom                          0\n",
       "Generosity                       0\n",
       "Trust (Government Corruption)    0\n",
       "dtype: int64"
      ]
     },
     "execution_count": 91,
     "metadata": {},
     "output_type": "execute_result"
    }
   ],
   "source": [
    "# Display the first few rows to understand the structure\n",
    "data_2018.head()\n",
    "data_2018.isnull().sum()"
   ]
  },
  {
   "cell_type": "code",
   "execution_count": 93,
   "metadata": {},
   "outputs": [],
   "source": [
    "data_2018 = pd.merge(data_2018, country_region_mapping, on='Country', how='left')"
   ]
  },
  {
   "cell_type": "code",
   "execution_count": 94,
   "metadata": {},
   "outputs": [
    {
     "name": "stdout",
     "output_type": "stream",
     "text": [
      "                      Country                           Region\n",
      "0                     Finland                   Western Europe\n",
      "1                      Norway                   Western Europe\n",
      "2                     Denmark                   Western Europe\n",
      "3                     Iceland                   Western Europe\n",
      "4                 Switzerland                   Western Europe\n",
      "..                        ...                              ...\n",
      "151                     Yemen  Middle East and Northern Africa\n",
      "152                  Tanzania               Sub-Saharan Africa\n",
      "153               South Sudan               Sub-Saharan Africa\n",
      "154  Central African Republic                              NaN\n",
      "155                   Burundi               Sub-Saharan Africa\n",
      "\n",
      "[156 rows x 2 columns]\n"
     ]
    }
   ],
   "source": [
    "# Check the updated DataFrame\n",
    "print(data_2018[['Country', 'Region']])"
   ]
  },
  {
   "cell_type": "code",
   "execution_count": 95,
   "metadata": {},
   "outputs": [
    {
     "data": {
      "text/plain": [
       "Happiness Rank                   0\n",
       "Country                          0\n",
       "Happiness Score                  0\n",
       "Economy (GDP per Capita)         0\n",
       "Family (Social Support)          0\n",
       "Health (Life Expectancy)         0\n",
       "Freedom                          0\n",
       "Generosity                       0\n",
       "Trust (Government Corruption)    0\n",
       "Region                           5\n",
       "dtype: int64"
      ]
     },
     "execution_count": 95,
     "metadata": {},
     "output_type": "execute_result"
    }
   ],
   "source": [
    "data_2018.head()\n",
    "data_2018.isnull().sum()"
   ]
  },
  {
   "cell_type": "code",
   "execution_count": 96,
   "metadata": {},
   "outputs": [
    {
     "name": "stdout",
     "output_type": "stream",
     "text": [
      "     Happiness Rank                   Country  Happiness Score  \\\n",
      "37               38         Trinidad & Tobago            6.192   \n",
      "57               58           Northern Cyprus            5.835   \n",
      "122             123                Mozambique            4.417   \n",
      "140             141                   Lesotho            3.808   \n",
      "154             155  Central African Republic            3.083   \n",
      "\n",
      "     Economy (GDP per Capita)  Family (Social Support)  \\\n",
      "37                      1.223                    1.492   \n",
      "57                      1.229                    1.211   \n",
      "122                     0.198                    0.902   \n",
      "140                     0.472                    1.215   \n",
      "154                     0.024                    0.000   \n",
      "\n",
      "     Health (Life Expectancy)  Freedom  Generosity  \\\n",
      "37                      0.564    0.575       0.171   \n",
      "57                      0.909    0.495       0.179   \n",
      "122                     0.173    0.531       0.206   \n",
      "140                     0.079    0.423       0.116   \n",
      "154                     0.010    0.305       0.218   \n",
      "\n",
      "     Trust (Government Corruption) Region  \n",
      "37                           0.019    NaN  \n",
      "57                           0.154    NaN  \n",
      "122                          0.158    NaN  \n",
      "140                          0.112    NaN  \n",
      "154                          0.038    NaN  \n"
     ]
    }
   ],
   "source": [
    "# Filter the DataFrame to show only rows where 'Region' is null\n",
    "missing_region_rows = data_2018[data_2018['Region'].isnull()]\n",
    "\n",
    "# Display the rows with missing 'Region' values\n",
    "print(missing_region_rows)\n"
   ]
  },
  {
   "cell_type": "code",
   "execution_count": 100,
   "metadata": {},
   "outputs": [],
   "source": [
    "# Update missing 'Region' values based on manual information\n",
    "data_2018.loc[data_2018['Country'] == 'Mozambique', 'Region'] = 'Sub-Saharan Africa'\n",
    "data_2018.loc[data_2018['Country'] == 'Lesotho', 'Region'] = 'Sub-Saharan Africa'\n",
    "data_2018.loc[data_2018['Country'] == 'Central African Republic', 'Region'] = 'Sub-Saharan Africa'\n"
   ]
  },
  {
   "cell_type": "code",
   "execution_count": 101,
   "metadata": {},
   "outputs": [],
   "source": [
    "# Replace incorrect country names\n",
    "data_2018['Country'] = data_2018['Country'].replace({\n",
    "    'Trinidad & Tobago': 'Trinidad and Tobago',\n",
    "    'Northern Cyprus': 'North Cyprus'\n",
    "})\n"
   ]
  },
  {
   "cell_type": "code",
   "execution_count": 102,
   "metadata": {},
   "outputs": [
    {
     "data": {
      "text/plain": [
       "Happiness Rank                   0\n",
       "Country                          0\n",
       "Happiness Score                  0\n",
       "Economy (GDP per Capita)         0\n",
       "Family (Social Support)          0\n",
       "Health (Life Expectancy)         0\n",
       "Freedom                          0\n",
       "Generosity                       0\n",
       "Trust (Government Corruption)    0\n",
       "Region                           2\n",
       "dtype: int64"
      ]
     },
     "execution_count": 102,
     "metadata": {},
     "output_type": "execute_result"
    }
   ],
   "source": [
    "data_2018.head()\n",
    "data_2018.isnull().sum()"
   ]
  },
  {
   "cell_type": "code",
   "execution_count": 103,
   "metadata": {},
   "outputs": [
    {
     "name": "stdout",
     "output_type": "stream",
     "text": [
      "    Happiness Rank              Country  Happiness Score  \\\n",
      "37              38  Trinidad and Tobago            6.192   \n",
      "57              58         North Cyprus            5.835   \n",
      "\n",
      "    Economy (GDP per Capita)  Family (Social Support)  \\\n",
      "37                     1.223                    1.492   \n",
      "57                     1.229                    1.211   \n",
      "\n",
      "    Health (Life Expectancy)  Freedom  Generosity  \\\n",
      "37                     0.564    0.575       0.171   \n",
      "57                     0.909    0.495       0.179   \n",
      "\n",
      "    Trust (Government Corruption) Region  \n",
      "37                          0.019    NaN  \n",
      "57                          0.154    NaN  \n"
     ]
    }
   ],
   "source": [
    "# Filter the DataFrame to show only rows where 'Region' is null\n",
    "missing_region_rows = data_2018[data_2018['Region'].isnull()]\n",
    "\n",
    "# Display the rows with missing 'Region' values\n",
    "print(missing_region_rows)"
   ]
  },
  {
   "cell_type": "code",
   "execution_count": 104,
   "metadata": {},
   "outputs": [],
   "source": [
    "data_2018.loc[data_2018['Country'] == 'Trinidad and Tobago', 'Region'] = 'Latin America and Caribbean'\n",
    "data_2018.loc[data_2018['Country'] == 'North Cyprus', 'Region'] = 'Western Europe'\n",
    "\n"
   ]
  },
  {
   "cell_type": "code",
   "execution_count": 105,
   "metadata": {},
   "outputs": [
    {
     "name": "stdout",
     "output_type": "stream",
     "text": [
      "Empty DataFrame\n",
      "Columns: [Happiness Rank, Country, Happiness Score, Economy (GDP per Capita), Family (Social Support), Health (Life Expectancy), Freedom, Generosity, Trust (Government Corruption), Region]\n",
      "Index: []\n"
     ]
    }
   ],
   "source": [
    "# Filter the DataFrame to show only rows where 'Region' is null\n",
    "missing_region_rows = data_2018[data_2018['Region'].isnull()]\n",
    "\n",
    "# Display the rows with missing 'Region' values\n",
    "print(missing_region_rows)"
   ]
  },
  {
   "cell_type": "code",
   "execution_count": 107,
   "metadata": {},
   "outputs": [],
   "source": [
    "# Add the 'Year' column\n",
    "data_2018['Year'] = 2018"
   ]
  },
  {
   "cell_type": "code",
   "execution_count": 146,
   "metadata": {},
   "outputs": [
    {
     "data": {
      "text/html": [
       "<div>\n",
       "<style scoped>\n",
       "    .dataframe tbody tr th:only-of-type {\n",
       "        vertical-align: middle;\n",
       "    }\n",
       "\n",
       "    .dataframe tbody tr th {\n",
       "        vertical-align: top;\n",
       "    }\n",
       "\n",
       "    .dataframe thead th {\n",
       "        text-align: right;\n",
       "    }\n",
       "</style>\n",
       "<table border=\"1\" class=\"dataframe\">\n",
       "  <thead>\n",
       "    <tr style=\"text-align: right;\">\n",
       "      <th></th>\n",
       "      <th>Happiness Rank</th>\n",
       "      <th>Country</th>\n",
       "      <th>Happiness Score</th>\n",
       "      <th>Economy (GDP per Capita)</th>\n",
       "      <th>Family (Social Support)</th>\n",
       "      <th>Health (Life Expectancy)</th>\n",
       "      <th>Freedom</th>\n",
       "      <th>Generosity</th>\n",
       "      <th>Trust (Government Corruption)</th>\n",
       "      <th>Region</th>\n",
       "      <th>Year</th>\n",
       "    </tr>\n",
       "  </thead>\n",
       "  <tbody>\n",
       "    <tr>\n",
       "      <th>0</th>\n",
       "      <td>1</td>\n",
       "      <td>Finland</td>\n",
       "      <td>7.632</td>\n",
       "      <td>1.305</td>\n",
       "      <td>1.592</td>\n",
       "      <td>0.874</td>\n",
       "      <td>0.681</td>\n",
       "      <td>0.202</td>\n",
       "      <td>0.393</td>\n",
       "      <td>Western Europe</td>\n",
       "      <td>2018</td>\n",
       "    </tr>\n",
       "    <tr>\n",
       "      <th>1</th>\n",
       "      <td>2</td>\n",
       "      <td>Norway</td>\n",
       "      <td>7.594</td>\n",
       "      <td>1.456</td>\n",
       "      <td>1.582</td>\n",
       "      <td>0.861</td>\n",
       "      <td>0.686</td>\n",
       "      <td>0.286</td>\n",
       "      <td>0.340</td>\n",
       "      <td>Western Europe</td>\n",
       "      <td>2018</td>\n",
       "    </tr>\n",
       "    <tr>\n",
       "      <th>2</th>\n",
       "      <td>3</td>\n",
       "      <td>Denmark</td>\n",
       "      <td>7.555</td>\n",
       "      <td>1.351</td>\n",
       "      <td>1.590</td>\n",
       "      <td>0.868</td>\n",
       "      <td>0.683</td>\n",
       "      <td>0.284</td>\n",
       "      <td>0.408</td>\n",
       "      <td>Western Europe</td>\n",
       "      <td>2018</td>\n",
       "    </tr>\n",
       "    <tr>\n",
       "      <th>3</th>\n",
       "      <td>4</td>\n",
       "      <td>Iceland</td>\n",
       "      <td>7.495</td>\n",
       "      <td>1.343</td>\n",
       "      <td>1.644</td>\n",
       "      <td>0.914</td>\n",
       "      <td>0.677</td>\n",
       "      <td>0.353</td>\n",
       "      <td>0.138</td>\n",
       "      <td>Western Europe</td>\n",
       "      <td>2018</td>\n",
       "    </tr>\n",
       "    <tr>\n",
       "      <th>4</th>\n",
       "      <td>5</td>\n",
       "      <td>Switzerland</td>\n",
       "      <td>7.487</td>\n",
       "      <td>1.420</td>\n",
       "      <td>1.549</td>\n",
       "      <td>0.927</td>\n",
       "      <td>0.660</td>\n",
       "      <td>0.256</td>\n",
       "      <td>0.357</td>\n",
       "      <td>Western Europe</td>\n",
       "      <td>2018</td>\n",
       "    </tr>\n",
       "  </tbody>\n",
       "</table>\n",
       "</div>"
      ],
      "text/plain": [
       "   Happiness Rank      Country  Happiness Score  Economy (GDP per Capita)  \\\n",
       "0               1      Finland            7.632                     1.305   \n",
       "1               2       Norway            7.594                     1.456   \n",
       "2               3      Denmark            7.555                     1.351   \n",
       "3               4      Iceland            7.495                     1.343   \n",
       "4               5  Switzerland            7.487                     1.420   \n",
       "\n",
       "   Family (Social Support)  Health (Life Expectancy)  Freedom  Generosity  \\\n",
       "0                    1.592                     0.874    0.681       0.202   \n",
       "1                    1.582                     0.861    0.686       0.286   \n",
       "2                    1.590                     0.868    0.683       0.284   \n",
       "3                    1.644                     0.914    0.677       0.353   \n",
       "4                    1.549                     0.927    0.660       0.256   \n",
       "\n",
       "   Trust (Government Corruption)          Region  Year  \n",
       "0                          0.393  Western Europe  2018  \n",
       "1                          0.340  Western Europe  2018  \n",
       "2                          0.408  Western Europe  2018  \n",
       "3                          0.138  Western Europe  2018  \n",
       "4                          0.357  Western Europe  2018  "
      ]
     },
     "execution_count": 146,
     "metadata": {},
     "output_type": "execute_result"
    }
   ],
   "source": [
    "data_2018.head()"
   ]
  },
  {
   "cell_type": "code",
   "execution_count": 148,
   "metadata": {},
   "outputs": [
    {
     "name": "stdout",
     "output_type": "stream",
     "text": [
      "       Country  Happiness score  Whisker-high  Whisker-low  \\\n",
      "0      Finland            7.632         7.695        7.569   \n",
      "1       Norway            7.594         7.657        7.530   \n",
      "2      Denmark            7.555         7.623        7.487   \n",
      "3      Iceland            7.495         7.593        7.398   \n",
      "4  Switzerland            7.487         7.570        7.405   \n",
      "\n",
      "   Dystopia (1.92) + residual  Explained by: GDP per capita  \\\n",
      "0                       2.595                         1.305   \n",
      "1                       2.383                         1.456   \n",
      "2                       2.370                         1.351   \n",
      "3                       2.426                         1.343   \n",
      "4                       2.320                         1.420   \n",
      "\n",
      "   Explained by: Social support  Explained by: Healthy life expectancy  \\\n",
      "0                         1.592                                  0.874   \n",
      "1                         1.582                                  0.861   \n",
      "2                         1.590                                  0.868   \n",
      "3                         1.644                                  0.914   \n",
      "4                         1.549                                  0.927   \n",
      "\n",
      "   Explained by: Freedom to make life choices  Explained by: Generosity  \\\n",
      "0                                       0.681                     0.192   \n",
      "1                                       0.686                     0.286   \n",
      "2                                       0.683                     0.284   \n",
      "3                                       0.677                     0.353   \n",
      "4                                       0.660                     0.256   \n",
      "\n",
      "   Explained by: Perceptions of corruption  \n",
      "0                                    0.393  \n",
      "1                                    0.340  \n",
      "2                                    0.408  \n",
      "3                                    0.138  \n",
      "4                                    0.357  \n"
     ]
    }
   ],
   "source": [
    "support_data = pd.read_csv(r'C:\\FINAL\\WHR\\dataset\\2018_supportdoc.csv')\n",
    "\n",
    "\n",
    "print(support_data.head())"
   ]
  },
  {
   "cell_type": "code",
   "execution_count": 152,
   "metadata": {},
   "outputs": [
    {
     "name": "stdout",
     "output_type": "stream",
     "text": [
      "   Happiness Rank      Country  Happiness Score  Economy (GDP per Capita)  \\\n",
      "0               1      Finland            7.632                     1.305   \n",
      "1               2       Norway            7.594                     1.456   \n",
      "2               3      Denmark            7.555                     1.351   \n",
      "3               4      Iceland            7.495                     1.343   \n",
      "4               5  Switzerland            7.487                     1.420   \n",
      "\n",
      "   Family (Social Support)  Health (Life Expectancy)  Freedom  Generosity  \\\n",
      "0                    1.592                     0.874    0.681       0.202   \n",
      "1                    1.582                     0.861    0.686       0.286   \n",
      "2                    1.590                     0.868    0.683       0.284   \n",
      "3                    1.644                     0.914    0.677       0.353   \n",
      "4                    1.549                     0.927    0.660       0.256   \n",
      "\n",
      "   Trust (Government Corruption)          Region  Year  \\\n",
      "0                          0.393  Western Europe  2018   \n",
      "1                          0.340  Western Europe  2018   \n",
      "2                          0.408  Western Europe  2018   \n",
      "3                          0.138  Western Europe  2018   \n",
      "4                          0.357  Western Europe  2018   \n",
      "\n",
      "   Dystopia (1.92) + residual  Whisker-high  Whisker-low  \n",
      "0                       2.595         7.695        7.569  \n",
      "1                       2.383         7.657        7.530  \n",
      "2                       2.370         7.623        7.487  \n",
      "3                       2.426         7.593        7.398  \n",
      "4                       2.320         7.570        7.405  \n"
     ]
    }
   ],
   "source": [
    "# Merge the DataFrames on the 'Country' column\n",
    "merged_data_2018 = pd.merge(data_2018, support_data[['Country', 'Dystopia (1.92) + residual', 'Whisker-high', 'Whisker-low']],\n",
    "                             on='Country', how='left')\n",
    "\n",
    "# Display the first few rows of the merged DataFrame\n",
    "print(merged_data_2018.head())"
   ]
  },
  {
   "cell_type": "code",
   "execution_count": 156,
   "metadata": {},
   "outputs": [
    {
     "data": {
      "text/html": [
       "<div>\n",
       "<style scoped>\n",
       "    .dataframe tbody tr th:only-of-type {\n",
       "        vertical-align: middle;\n",
       "    }\n",
       "\n",
       "    .dataframe tbody tr th {\n",
       "        vertical-align: top;\n",
       "    }\n",
       "\n",
       "    .dataframe thead th {\n",
       "        text-align: right;\n",
       "    }\n",
       "</style>\n",
       "<table border=\"1\" class=\"dataframe\">\n",
       "  <thead>\n",
       "    <tr style=\"text-align: right;\">\n",
       "      <th></th>\n",
       "      <th>Happiness Rank</th>\n",
       "      <th>Country</th>\n",
       "      <th>Happiness Score</th>\n",
       "      <th>Economy (GDP per Capita)</th>\n",
       "      <th>Family (Social Support)</th>\n",
       "      <th>Health (Life Expectancy)</th>\n",
       "      <th>Freedom</th>\n",
       "      <th>Generosity</th>\n",
       "      <th>Trust (Government Corruption)</th>\n",
       "      <th>Region</th>\n",
       "      <th>Year</th>\n",
       "      <th>Dystopia (1.92) + residual</th>\n",
       "      <th>Whisker-high</th>\n",
       "      <th>Whisker-low</th>\n",
       "    </tr>\n",
       "  </thead>\n",
       "  <tbody>\n",
       "    <tr>\n",
       "      <th>0</th>\n",
       "      <td>1</td>\n",
       "      <td>Finland</td>\n",
       "      <td>7.632</td>\n",
       "      <td>1.305</td>\n",
       "      <td>1.592</td>\n",
       "      <td>0.874</td>\n",
       "      <td>0.681</td>\n",
       "      <td>0.202</td>\n",
       "      <td>0.393</td>\n",
       "      <td>Western Europe</td>\n",
       "      <td>2018</td>\n",
       "      <td>2.595</td>\n",
       "      <td>7.695</td>\n",
       "      <td>7.569</td>\n",
       "    </tr>\n",
       "    <tr>\n",
       "      <th>1</th>\n",
       "      <td>2</td>\n",
       "      <td>Norway</td>\n",
       "      <td>7.594</td>\n",
       "      <td>1.456</td>\n",
       "      <td>1.582</td>\n",
       "      <td>0.861</td>\n",
       "      <td>0.686</td>\n",
       "      <td>0.286</td>\n",
       "      <td>0.340</td>\n",
       "      <td>Western Europe</td>\n",
       "      <td>2018</td>\n",
       "      <td>2.383</td>\n",
       "      <td>7.657</td>\n",
       "      <td>7.530</td>\n",
       "    </tr>\n",
       "    <tr>\n",
       "      <th>2</th>\n",
       "      <td>3</td>\n",
       "      <td>Denmark</td>\n",
       "      <td>7.555</td>\n",
       "      <td>1.351</td>\n",
       "      <td>1.590</td>\n",
       "      <td>0.868</td>\n",
       "      <td>0.683</td>\n",
       "      <td>0.284</td>\n",
       "      <td>0.408</td>\n",
       "      <td>Western Europe</td>\n",
       "      <td>2018</td>\n",
       "      <td>2.370</td>\n",
       "      <td>7.623</td>\n",
       "      <td>7.487</td>\n",
       "    </tr>\n",
       "    <tr>\n",
       "      <th>3</th>\n",
       "      <td>4</td>\n",
       "      <td>Iceland</td>\n",
       "      <td>7.495</td>\n",
       "      <td>1.343</td>\n",
       "      <td>1.644</td>\n",
       "      <td>0.914</td>\n",
       "      <td>0.677</td>\n",
       "      <td>0.353</td>\n",
       "      <td>0.138</td>\n",
       "      <td>Western Europe</td>\n",
       "      <td>2018</td>\n",
       "      <td>2.426</td>\n",
       "      <td>7.593</td>\n",
       "      <td>7.398</td>\n",
       "    </tr>\n",
       "    <tr>\n",
       "      <th>4</th>\n",
       "      <td>5</td>\n",
       "      <td>Switzerland</td>\n",
       "      <td>7.487</td>\n",
       "      <td>1.420</td>\n",
       "      <td>1.549</td>\n",
       "      <td>0.927</td>\n",
       "      <td>0.660</td>\n",
       "      <td>0.256</td>\n",
       "      <td>0.357</td>\n",
       "      <td>Western Europe</td>\n",
       "      <td>2018</td>\n",
       "      <td>2.320</td>\n",
       "      <td>7.570</td>\n",
       "      <td>7.405</td>\n",
       "    </tr>\n",
       "  </tbody>\n",
       "</table>\n",
       "</div>"
      ],
      "text/plain": [
       "   Happiness Rank      Country  Happiness Score  Economy (GDP per Capita)  \\\n",
       "0               1      Finland            7.632                     1.305   \n",
       "1               2       Norway            7.594                     1.456   \n",
       "2               3      Denmark            7.555                     1.351   \n",
       "3               4      Iceland            7.495                     1.343   \n",
       "4               5  Switzerland            7.487                     1.420   \n",
       "\n",
       "   Family (Social Support)  Health (Life Expectancy)  Freedom  Generosity  \\\n",
       "0                    1.592                     0.874    0.681       0.202   \n",
       "1                    1.582                     0.861    0.686       0.286   \n",
       "2                    1.590                     0.868    0.683       0.284   \n",
       "3                    1.644                     0.914    0.677       0.353   \n",
       "4                    1.549                     0.927    0.660       0.256   \n",
       "\n",
       "   Trust (Government Corruption)          Region  Year  \\\n",
       "0                          0.393  Western Europe  2018   \n",
       "1                          0.340  Western Europe  2018   \n",
       "2                          0.408  Western Europe  2018   \n",
       "3                          0.138  Western Europe  2018   \n",
       "4                          0.357  Western Europe  2018   \n",
       "\n",
       "   Dystopia (1.92) + residual  Whisker-high  Whisker-low  \n",
       "0                       2.595         7.695        7.569  \n",
       "1                       2.383         7.657        7.530  \n",
       "2                       2.370         7.623        7.487  \n",
       "3                       2.426         7.593        7.398  \n",
       "4                       2.320         7.570        7.405  "
      ]
     },
     "execution_count": 156,
     "metadata": {},
     "output_type": "execute_result"
    }
   ],
   "source": [
    "merged_data_2018.head()"
   ]
  },
  {
   "cell_type": "code",
   "execution_count": 157,
   "metadata": {},
   "outputs": [],
   "source": [
    "# Rename Cols\n",
    "merged_data_2018 = merged_data_2018.rename(columns={\n",
    "    'Happiness Rank': 'Happiness Rank',\n",
    "    'Happiness Score': 'Happiness Score',\n",
    "    'Whisker-high': 'Upper Confidence Interval',\n",
    "    'Whisker-low': 'Lower Confidence Interval',\n",
    "    'Economy (GDP per Capita)': 'Economy (GDP per Capita)',\n",
    "    'Health (Life Expectancy)': 'Health (Life Expectancy)',\n",
    "    'Family (Social Support)': 'Family (Social Support)',\n",
    "    'Freedom': 'Freedom',\n",
    "    'Trust (Government Corruption)': 'Trust (Government Corruption)',\n",
    "    'Generosity': 'Generosity',\n",
    "    'Dystopia (1.92) + residual': 'Dystopia Residual'\n",
    "})\n"
   ]
  },
  {
   "cell_type": "code",
   "execution_count": 158,
   "metadata": {},
   "outputs": [
    {
     "data": {
      "text/html": [
       "<div>\n",
       "<style scoped>\n",
       "    .dataframe tbody tr th:only-of-type {\n",
       "        vertical-align: middle;\n",
       "    }\n",
       "\n",
       "    .dataframe tbody tr th {\n",
       "        vertical-align: top;\n",
       "    }\n",
       "\n",
       "    .dataframe thead th {\n",
       "        text-align: right;\n",
       "    }\n",
       "</style>\n",
       "<table border=\"1\" class=\"dataframe\">\n",
       "  <thead>\n",
       "    <tr style=\"text-align: right;\">\n",
       "      <th></th>\n",
       "      <th>Happiness Rank</th>\n",
       "      <th>Country</th>\n",
       "      <th>Happiness Score</th>\n",
       "      <th>Economy (GDP per Capita)</th>\n",
       "      <th>Family (Social Support)</th>\n",
       "      <th>Health (Life Expectancy)</th>\n",
       "      <th>Freedom</th>\n",
       "      <th>Generosity</th>\n",
       "      <th>Trust (Government Corruption)</th>\n",
       "      <th>Region</th>\n",
       "      <th>Year</th>\n",
       "      <th>Dystopia Residual</th>\n",
       "      <th>Upper Confidence Interval</th>\n",
       "      <th>Lower Confidence Interval</th>\n",
       "    </tr>\n",
       "  </thead>\n",
       "  <tbody>\n",
       "    <tr>\n",
       "      <th>0</th>\n",
       "      <td>1</td>\n",
       "      <td>Finland</td>\n",
       "      <td>7.632</td>\n",
       "      <td>1.305</td>\n",
       "      <td>1.592</td>\n",
       "      <td>0.874</td>\n",
       "      <td>0.681</td>\n",
       "      <td>0.202</td>\n",
       "      <td>0.393</td>\n",
       "      <td>Western Europe</td>\n",
       "      <td>2018</td>\n",
       "      <td>2.595</td>\n",
       "      <td>7.695</td>\n",
       "      <td>7.569</td>\n",
       "    </tr>\n",
       "    <tr>\n",
       "      <th>1</th>\n",
       "      <td>2</td>\n",
       "      <td>Norway</td>\n",
       "      <td>7.594</td>\n",
       "      <td>1.456</td>\n",
       "      <td>1.582</td>\n",
       "      <td>0.861</td>\n",
       "      <td>0.686</td>\n",
       "      <td>0.286</td>\n",
       "      <td>0.340</td>\n",
       "      <td>Western Europe</td>\n",
       "      <td>2018</td>\n",
       "      <td>2.383</td>\n",
       "      <td>7.657</td>\n",
       "      <td>7.530</td>\n",
       "    </tr>\n",
       "    <tr>\n",
       "      <th>2</th>\n",
       "      <td>3</td>\n",
       "      <td>Denmark</td>\n",
       "      <td>7.555</td>\n",
       "      <td>1.351</td>\n",
       "      <td>1.590</td>\n",
       "      <td>0.868</td>\n",
       "      <td>0.683</td>\n",
       "      <td>0.284</td>\n",
       "      <td>0.408</td>\n",
       "      <td>Western Europe</td>\n",
       "      <td>2018</td>\n",
       "      <td>2.370</td>\n",
       "      <td>7.623</td>\n",
       "      <td>7.487</td>\n",
       "    </tr>\n",
       "    <tr>\n",
       "      <th>3</th>\n",
       "      <td>4</td>\n",
       "      <td>Iceland</td>\n",
       "      <td>7.495</td>\n",
       "      <td>1.343</td>\n",
       "      <td>1.644</td>\n",
       "      <td>0.914</td>\n",
       "      <td>0.677</td>\n",
       "      <td>0.353</td>\n",
       "      <td>0.138</td>\n",
       "      <td>Western Europe</td>\n",
       "      <td>2018</td>\n",
       "      <td>2.426</td>\n",
       "      <td>7.593</td>\n",
       "      <td>7.398</td>\n",
       "    </tr>\n",
       "    <tr>\n",
       "      <th>4</th>\n",
       "      <td>5</td>\n",
       "      <td>Switzerland</td>\n",
       "      <td>7.487</td>\n",
       "      <td>1.420</td>\n",
       "      <td>1.549</td>\n",
       "      <td>0.927</td>\n",
       "      <td>0.660</td>\n",
       "      <td>0.256</td>\n",
       "      <td>0.357</td>\n",
       "      <td>Western Europe</td>\n",
       "      <td>2018</td>\n",
       "      <td>2.320</td>\n",
       "      <td>7.570</td>\n",
       "      <td>7.405</td>\n",
       "    </tr>\n",
       "  </tbody>\n",
       "</table>\n",
       "</div>"
      ],
      "text/plain": [
       "   Happiness Rank      Country  Happiness Score  Economy (GDP per Capita)  \\\n",
       "0               1      Finland            7.632                     1.305   \n",
       "1               2       Norway            7.594                     1.456   \n",
       "2               3      Denmark            7.555                     1.351   \n",
       "3               4      Iceland            7.495                     1.343   \n",
       "4               5  Switzerland            7.487                     1.420   \n",
       "\n",
       "   Family (Social Support)  Health (Life Expectancy)  Freedom  Generosity  \\\n",
       "0                    1.592                     0.874    0.681       0.202   \n",
       "1                    1.582                     0.861    0.686       0.286   \n",
       "2                    1.590                     0.868    0.683       0.284   \n",
       "3                    1.644                     0.914    0.677       0.353   \n",
       "4                    1.549                     0.927    0.660       0.256   \n",
       "\n",
       "   Trust (Government Corruption)          Region  Year  Dystopia Residual  \\\n",
       "0                          0.393  Western Europe  2018              2.595   \n",
       "1                          0.340  Western Europe  2018              2.383   \n",
       "2                          0.408  Western Europe  2018              2.370   \n",
       "3                          0.138  Western Europe  2018              2.426   \n",
       "4                          0.357  Western Europe  2018              2.320   \n",
       "\n",
       "   Upper Confidence Interval  Lower Confidence Interval  \n",
       "0                      7.695                      7.569  \n",
       "1                      7.657                      7.530  \n",
       "2                      7.623                      7.487  \n",
       "3                      7.593                      7.398  \n",
       "4                      7.570                      7.405  "
      ]
     },
     "execution_count": 158,
     "metadata": {},
     "output_type": "execute_result"
    }
   ],
   "source": [
    "merged_data_2018.head()"
   ]
  },
  {
   "cell_type": "code",
   "execution_count": 159,
   "metadata": {},
   "outputs": [],
   "source": [
    "# SE from 'Lower Confidence Interval' and 'Upper Confidence Interval'\n",
    "\n",
    "Z = 1.96  # Z-score for a 95% confidence interval\n",
    "\n",
    "merged_data_2018['Standard Error'] = (merged_data_2018['Upper Confidence Interval'] - merged_data_2018['Lower Confidence Interval']) / (2 * Z)\n"
   ]
  },
  {
   "cell_type": "code",
   "execution_count": 160,
   "metadata": {},
   "outputs": [
    {
     "data": {
      "text/html": [
       "<div>\n",
       "<style scoped>\n",
       "    .dataframe tbody tr th:only-of-type {\n",
       "        vertical-align: middle;\n",
       "    }\n",
       "\n",
       "    .dataframe tbody tr th {\n",
       "        vertical-align: top;\n",
       "    }\n",
       "\n",
       "    .dataframe thead th {\n",
       "        text-align: right;\n",
       "    }\n",
       "</style>\n",
       "<table border=\"1\" class=\"dataframe\">\n",
       "  <thead>\n",
       "    <tr style=\"text-align: right;\">\n",
       "      <th></th>\n",
       "      <th>Happiness Rank</th>\n",
       "      <th>Country</th>\n",
       "      <th>Happiness Score</th>\n",
       "      <th>Economy (GDP per Capita)</th>\n",
       "      <th>Family (Social Support)</th>\n",
       "      <th>Health (Life Expectancy)</th>\n",
       "      <th>Freedom</th>\n",
       "      <th>Generosity</th>\n",
       "      <th>Trust (Government Corruption)</th>\n",
       "      <th>Region</th>\n",
       "      <th>Year</th>\n",
       "      <th>Dystopia Residual</th>\n",
       "      <th>Upper Confidence Interval</th>\n",
       "      <th>Lower Confidence Interval</th>\n",
       "      <th>Standard Error</th>\n",
       "    </tr>\n",
       "  </thead>\n",
       "  <tbody>\n",
       "    <tr>\n",
       "      <th>0</th>\n",
       "      <td>1</td>\n",
       "      <td>Finland</td>\n",
       "      <td>7.632</td>\n",
       "      <td>1.305</td>\n",
       "      <td>1.592</td>\n",
       "      <td>0.874</td>\n",
       "      <td>0.681</td>\n",
       "      <td>0.202</td>\n",
       "      <td>0.393</td>\n",
       "      <td>Western Europe</td>\n",
       "      <td>2018</td>\n",
       "      <td>2.595</td>\n",
       "      <td>7.695</td>\n",
       "      <td>7.569</td>\n",
       "      <td>0.032143</td>\n",
       "    </tr>\n",
       "    <tr>\n",
       "      <th>1</th>\n",
       "      <td>2</td>\n",
       "      <td>Norway</td>\n",
       "      <td>7.594</td>\n",
       "      <td>1.456</td>\n",
       "      <td>1.582</td>\n",
       "      <td>0.861</td>\n",
       "      <td>0.686</td>\n",
       "      <td>0.286</td>\n",
       "      <td>0.340</td>\n",
       "      <td>Western Europe</td>\n",
       "      <td>2018</td>\n",
       "      <td>2.383</td>\n",
       "      <td>7.657</td>\n",
       "      <td>7.530</td>\n",
       "      <td>0.032398</td>\n",
       "    </tr>\n",
       "    <tr>\n",
       "      <th>2</th>\n",
       "      <td>3</td>\n",
       "      <td>Denmark</td>\n",
       "      <td>7.555</td>\n",
       "      <td>1.351</td>\n",
       "      <td>1.590</td>\n",
       "      <td>0.868</td>\n",
       "      <td>0.683</td>\n",
       "      <td>0.284</td>\n",
       "      <td>0.408</td>\n",
       "      <td>Western Europe</td>\n",
       "      <td>2018</td>\n",
       "      <td>2.370</td>\n",
       "      <td>7.623</td>\n",
       "      <td>7.487</td>\n",
       "      <td>0.034694</td>\n",
       "    </tr>\n",
       "    <tr>\n",
       "      <th>3</th>\n",
       "      <td>4</td>\n",
       "      <td>Iceland</td>\n",
       "      <td>7.495</td>\n",
       "      <td>1.343</td>\n",
       "      <td>1.644</td>\n",
       "      <td>0.914</td>\n",
       "      <td>0.677</td>\n",
       "      <td>0.353</td>\n",
       "      <td>0.138</td>\n",
       "      <td>Western Europe</td>\n",
       "      <td>2018</td>\n",
       "      <td>2.426</td>\n",
       "      <td>7.593</td>\n",
       "      <td>7.398</td>\n",
       "      <td>0.049745</td>\n",
       "    </tr>\n",
       "    <tr>\n",
       "      <th>4</th>\n",
       "      <td>5</td>\n",
       "      <td>Switzerland</td>\n",
       "      <td>7.487</td>\n",
       "      <td>1.420</td>\n",
       "      <td>1.549</td>\n",
       "      <td>0.927</td>\n",
       "      <td>0.660</td>\n",
       "      <td>0.256</td>\n",
       "      <td>0.357</td>\n",
       "      <td>Western Europe</td>\n",
       "      <td>2018</td>\n",
       "      <td>2.320</td>\n",
       "      <td>7.570</td>\n",
       "      <td>7.405</td>\n",
       "      <td>0.042092</td>\n",
       "    </tr>\n",
       "  </tbody>\n",
       "</table>\n",
       "</div>"
      ],
      "text/plain": [
       "   Happiness Rank      Country  Happiness Score  Economy (GDP per Capita)  \\\n",
       "0               1      Finland            7.632                     1.305   \n",
       "1               2       Norway            7.594                     1.456   \n",
       "2               3      Denmark            7.555                     1.351   \n",
       "3               4      Iceland            7.495                     1.343   \n",
       "4               5  Switzerland            7.487                     1.420   \n",
       "\n",
       "   Family (Social Support)  Health (Life Expectancy)  Freedom  Generosity  \\\n",
       "0                    1.592                     0.874    0.681       0.202   \n",
       "1                    1.582                     0.861    0.686       0.286   \n",
       "2                    1.590                     0.868    0.683       0.284   \n",
       "3                    1.644                     0.914    0.677       0.353   \n",
       "4                    1.549                     0.927    0.660       0.256   \n",
       "\n",
       "   Trust (Government Corruption)          Region  Year  Dystopia Residual  \\\n",
       "0                          0.393  Western Europe  2018              2.595   \n",
       "1                          0.340  Western Europe  2018              2.383   \n",
       "2                          0.408  Western Europe  2018              2.370   \n",
       "3                          0.138  Western Europe  2018              2.426   \n",
       "4                          0.357  Western Europe  2018              2.320   \n",
       "\n",
       "   Upper Confidence Interval  Lower Confidence Interval  Standard Error  \n",
       "0                      7.695                      7.569        0.032143  \n",
       "1                      7.657                      7.530        0.032398  \n",
       "2                      7.623                      7.487        0.034694  \n",
       "3                      7.593                      7.398        0.049745  \n",
       "4                      7.570                      7.405        0.042092  "
      ]
     },
     "execution_count": 160,
     "metadata": {},
     "output_type": "execute_result"
    }
   ],
   "source": [
    "merged_data_2018.head()"
   ]
  },
  {
   "cell_type": "code",
   "execution_count": 161,
   "metadata": {},
   "outputs": [],
   "source": [
    "# Save DataFrame to CSV\n",
    "merged_data_2018.to_csv('merged_data_2018.csv', index=False)\n"
   ]
  },
  {
   "cell_type": "code",
   "execution_count": 162,
   "metadata": {},
   "outputs": [
    {
     "data": {
      "text/plain": [
       "Overall rank                    0\n",
       "Country or region               0\n",
       "Score                           0\n",
       "GDP per capita                  0\n",
       "Social support                  0\n",
       "Healthy life expectancy         0\n",
       "Freedom to make life choices    0\n",
       "Generosity                      0\n",
       "Perceptions of corruption       0\n",
       "dtype: int64"
      ]
     },
     "execution_count": 162,
     "metadata": {},
     "output_type": "execute_result"
    }
   ],
   "source": [
    "# Read the 2019 data\n",
    "\n",
    "data_2019 = pd.read_csv(r'C:\\FINAL\\WHR\\dataset\\2019.csv')\n",
    "\n",
    "# Display the first few rows to understand the structure\n",
    "data_2019.head()\n",
    "\n",
    "# Check for missing values\n",
    "data_2019.isnull().sum()"
   ]
  },
  {
   "cell_type": "code",
   "execution_count": 164,
   "metadata": {},
   "outputs": [],
   "source": [
    "# Rename columns to make them consistent\n",
    "data_2019.rename(columns={\n",
    "    'Overall rank': 'Happiness Rank',\n",
    "    'Country or region': 'Country',\n",
    "    'Score': 'Happiness Score',\n",
    "    'GDP per capita': 'Economy (GDP per Capita)',\n",
    "    'Social support': 'Family (Social Support)',\n",
    "    'Healthy life expectancy': 'Health (Life Expectancy)',\n",
    "    'Freedom to make life choices': 'Freedom',\n",
    "    'Generosity': 'Generosity',\n",
    "    'Perceptions of corruption': 'Trust (Government Corruption)'\n",
    "}, inplace=True)"
   ]
  },
  {
   "cell_type": "code",
   "execution_count": 170,
   "metadata": {},
   "outputs": [
    {
     "name": "stdout",
     "output_type": "stream",
     "text": [
      "Index(['Happiness Rank', 'Country', 'Happiness Score',\n",
      "       'Economy (GDP per Capita)', 'Family (Social Support)',\n",
      "       'Health (Life Expectancy)', 'Freedom', 'Generosity',\n",
      "       'Trust (Government Corruption)', 'Region'],\n",
      "      dtype='object')\n"
     ]
    }
   ],
   "source": [
    "# I made a 'country_region_mapping' CSV with Country and Region cols from 2016d\n",
    "\n",
    "# Load the country-region mapping dataset\n",
    "country_region_mapping = pd.read_csv(r'C:\\FINAL\\WHR\\dataset\\country_region_mapping.csv')\n",
    "\n",
    "\n",
    "# Merge the datasets based on the 'Country' column\n",
    "merged_data_2019 = pd.merge(data_2019, country_region_mapping, on='Country', how='left')\n",
    "\n",
    "# Check the columns in the merged DataFrame\n",
    "print(merged_data.columns)\n",
    "\n",
    "\n"
   ]
  },
  {
   "cell_type": "code",
   "execution_count": 171,
   "metadata": {},
   "outputs": [
    {
     "name": "stdout",
     "output_type": "stream",
     "text": [
      "                      Country              Region\n",
      "0                     Finland      Western Europe\n",
      "1                     Denmark      Western Europe\n",
      "2                      Norway      Western Europe\n",
      "3                     Iceland      Western Europe\n",
      "4                 Netherlands      Western Europe\n",
      "..                        ...                 ...\n",
      "151                    Rwanda  Sub-Saharan Africa\n",
      "152                  Tanzania  Sub-Saharan Africa\n",
      "153               Afghanistan       Southern Asia\n",
      "154  Central African Republic                 NaN\n",
      "155               South Sudan  Sub-Saharan Africa\n",
      "\n",
      "[156 rows x 2 columns]\n"
     ]
    }
   ],
   "source": [
    "print(merged_data_2019[['Country', 'Region']])\n"
   ]
  },
  {
   "cell_type": "code",
   "execution_count": 172,
   "metadata": {},
   "outputs": [
    {
     "data": {
      "text/plain": [
       "Happiness Rank                   0\n",
       "Country                          0\n",
       "Happiness Score                  0\n",
       "Economy (GDP per Capita)         0\n",
       "Family (Social Support)          0\n",
       "Health (Life Expectancy)         0\n",
       "Freedom                          0\n",
       "Generosity                       0\n",
       "Trust (Government Corruption)    0\n",
       "Region                           8\n",
       "dtype: int64"
      ]
     },
     "execution_count": 172,
     "metadata": {},
     "output_type": "execute_result"
    }
   ],
   "source": [
    "merged_data_2019.head()\n",
    "merged_data_2019.isnull().sum()"
   ]
  },
  {
   "cell_type": "code",
   "execution_count": 209,
   "metadata": {},
   "outputs": [
    {
     "name": "stdout",
     "output_type": "stream",
     "text": [
      "Empty DataFrame\n",
      "Columns: [Happiness Rank, Country, Happiness Score, Economy (GDP per Capita), Family (Social Support), Health (Life Expectancy), Freedom, Generosity, Trust (Government Corruption), Region]\n",
      "Index: []\n"
     ]
    }
   ],
   "source": [
    "# Filter the DataFrame to show only rows where 'Region' is null\n",
    "missing_region_rows = merged_data_2019[merged_data_2019['Region'].isnull()]\n",
    "\n",
    "# Display the rows with missing 'Region' values\n",
    "print(missing_region_rows)\n"
   ]
  },
  {
   "cell_type": "code",
   "execution_count": 215,
   "metadata": {},
   "outputs": [],
   "source": [
    "# Replace incorrect country names\n",
    "merged_data_2019['Country'] = merged_data_2019['Country'].replace({\n",
    "    'Trinidad & Tobago': 'Trinidad and Tobago',\n",
    "    'Northern Cyprus': 'North Cyprus',\n",
    "    'North Macedonia': 'Macedonia',\n",
    "})"
   ]
  },
  {
   "cell_type": "code",
   "execution_count": 211,
   "metadata": {},
   "outputs": [],
   "source": [
    "# Filter the DataFrame to show only rows where 'Region' is null\n",
    "missing_region_rows = merged_data_2019[merged_data_2019['Region'].isnull()]"
   ]
  },
  {
   "cell_type": "code",
   "execution_count": 216,
   "metadata": {},
   "outputs": [
    {
     "name": "stdout",
     "output_type": "stream",
     "text": [
      "Empty DataFrame\n",
      "Columns: [Happiness Rank, Country, Happiness Score, Economy (GDP per Capita), Family (Social Support), Health (Life Expectancy), Freedom, Generosity, Trust (Government Corruption), Region]\n",
      "Index: []\n"
     ]
    }
   ],
   "source": [
    "# Display the rows with missing 'Region' values\n",
    "print(missing_region_rows)"
   ]
  },
  {
   "cell_type": "code",
   "execution_count": 217,
   "metadata": {},
   "outputs": [
    {
     "data": {
      "text/plain": [
       "Happiness Rank                   0\n",
       "Country                          0\n",
       "Happiness Score                  0\n",
       "Economy (GDP per Capita)         0\n",
       "Family (Social Support)          0\n",
       "Health (Life Expectancy)         0\n",
       "Freedom                          0\n",
       "Generosity                       0\n",
       "Trust (Government Corruption)    0\n",
       "Region                           0\n",
       "dtype: int64"
      ]
     },
     "execution_count": 217,
     "metadata": {},
     "output_type": "execute_result"
    }
   ],
   "source": [
    "merged_data_2019.head()\n",
    "merged_data_2019.isnull().sum()"
   ]
  },
  {
   "cell_type": "code",
   "execution_count": 218,
   "metadata": {},
   "outputs": [
    {
     "name": "stdout",
     "output_type": "stream",
     "text": [
      "Empty DataFrame\n",
      "Columns: [Country, Region]\n",
      "Index: []\n"
     ]
    }
   ],
   "source": [
    "countries_with_nan_region = merged_data_2019[merged_data_2019['Region'].isna()][['Country', 'Region']]\n",
    "print(countries_with_nan_region)\n"
   ]
  },
  {
   "cell_type": "code",
   "execution_count": 219,
   "metadata": {},
   "outputs": [],
   "source": [
    "# Assign regions to countries with NaN values\n",
    "merged_data_2019.loc[merged_data_2019['Country'] == 'Trinidad and Tobago', 'Region'] = 'Latin America and Caribbean'\n",
    "merged_data_2019.loc[merged_data_2019['Country'] == 'North Cyprus', 'Region'] = 'Western Europe'\n",
    "merged_data_2019.loc[merged_data_2019['Country'] == 'Macedonia', 'Region'] = 'Central and Eastern Europe'\n",
    "merged_data_2019.loc[merged_data_2019['Country'] == 'Gambia', 'Region'] = 'Sub-Saharan Africa'\n",
    "merged_data_2019.loc[merged_data_2019['Country'] == 'Mozambique', 'Region'] = 'Sub-Saharan Africa'\n",
    "merged_data_2019.loc[merged_data_2019['Country'] == 'Swaziland', 'Region'] = 'Sub-Saharan Africa'\n",
    "merged_data_2019.loc[merged_data_2019['Country'] == 'Lesotho', 'Region'] = 'Sub-Saharan Africa'\n",
    "merged_data_2019.loc[merged_data_2019['Country'] == 'Central African Republic', 'Region'] = 'Sub-Saharan Africa'\n"
   ]
  },
  {
   "cell_type": "code",
   "execution_count": 220,
   "metadata": {},
   "outputs": [
    {
     "data": {
      "text/plain": [
       "Happiness Rank                   0\n",
       "Country                          0\n",
       "Happiness Score                  0\n",
       "Economy (GDP per Capita)         0\n",
       "Family (Social Support)          0\n",
       "Health (Life Expectancy)         0\n",
       "Freedom                          0\n",
       "Generosity                       0\n",
       "Trust (Government Corruption)    0\n",
       "Region                           0\n",
       "dtype: int64"
      ]
     },
     "execution_count": 220,
     "metadata": {},
     "output_type": "execute_result"
    }
   ],
   "source": [
    "merged_data_2019.head()\n",
    "merged_data_2019.isnull().sum()"
   ]
  },
  {
   "cell_type": "code",
   "execution_count": 222,
   "metadata": {},
   "outputs": [],
   "source": [
    "# Add the 'Year' column\n",
    "merged_data_2019['Year'] = 2019\n"
   ]
  },
  {
   "cell_type": "code",
   "execution_count": 225,
   "metadata": {},
   "outputs": [],
   "source": [
    "support_data = pd.read_csv(r'C:\\FINAL\\WHR\\dataset\\2019_supportdoc.csv')\n"
   ]
  },
  {
   "cell_type": "code",
   "execution_count": 227,
   "metadata": {},
   "outputs": [
    {
     "name": "stdout",
     "output_type": "stream",
     "text": [
      "   Happiness Rank      Country  Happiness Score  Economy (GDP per Capita)  \\\n",
      "0               1      Finland            7.632                     1.305   \n",
      "1               2       Norway            7.594                     1.456   \n",
      "2               3      Denmark            7.555                     1.351   \n",
      "3               4      Iceland            7.495                     1.343   \n",
      "4               5  Switzerland            7.487                     1.420   \n",
      "\n",
      "   Family (Social Support)  Health (Life Expectancy)  Freedom  Generosity  \\\n",
      "0                    1.592                     0.874    0.681       0.202   \n",
      "1                    1.582                     0.861    0.686       0.286   \n",
      "2                    1.590                     0.868    0.683       0.284   \n",
      "3                    1.644                     0.914    0.677       0.353   \n",
      "4                    1.549                     0.927    0.660       0.256   \n",
      "\n",
      "   Trust (Government Corruption)          Region  Year  Dystopia Residual  \\\n",
      "0                          0.393  Western Europe  2018              2.595   \n",
      "1                          0.340  Western Europe  2018              2.383   \n",
      "2                          0.408  Western Europe  2018              2.370   \n",
      "3                          0.138  Western Europe  2018              2.426   \n",
      "4                          0.357  Western Europe  2018              2.320   \n",
      "\n",
      "   Upper Confidence Interval  Lower Confidence Interval  Standard Error  \n",
      "0                      7.695                      7.569        0.032143  \n",
      "1                      7.657                      7.530        0.032398  \n",
      "2                      7.623                      7.487        0.034694  \n",
      "3                      7.593                      7.398        0.049745  \n",
      "4                      7.570                      7.405        0.042092  \n"
     ]
    }
   ],
   "source": [
    "# Merge the DataFrames on the 'Country' column\n",
    "merged_dataf_2019 = pd.merge(merged_data_2019, support_data[['Country', 'Dystopia (1.88) + residual', 'Whisker-high', 'Whisker-low']],\n",
    "                             on='Country', how='left')\n",
    "# Display the first few rows of the merged DataFrame\n",
    "print(merged_data_2018.head())"
   ]
  },
  {
   "cell_type": "code",
   "execution_count": 228,
   "metadata": {},
   "outputs": [],
   "source": [
    "# Rename Cols\n",
    "merged_dataf_2019 = merged_dataf_2019.rename(columns={\n",
    "    'Happiness Rank': 'Happiness Rank',\n",
    "    'Happiness Score': 'Happiness Score',\n",
    "    'Whisker-high': 'Upper Confidence Interval',\n",
    "    'Whisker-low': 'Lower Confidence Interval',\n",
    "    'Economy (GDP per Capita)': 'Economy (GDP per Capita)',\n",
    "    'Health (Life Expectancy)': 'Health (Life Expectancy)',\n",
    "    'Family (Social Support)': 'Family (Social Support)',\n",
    "    'Freedom': 'Freedom',\n",
    "    'Trust (Government Corruption)': 'Trust (Government Corruption)',\n",
    "    'Generosity': 'Generosity',\n",
    "    'Dystopia (1.88) + residual': 'Dystopia Residual',\n",
    "    'Standard Error' : 'Standard Error'\n",
    "})"
   ]
  },
  {
   "cell_type": "code",
   "execution_count": 229,
   "metadata": {},
   "outputs": [],
   "source": [
    "# Save DataFrame to CSV\n",
    "merged_dataf_2019.to_csv('merged_dataf_2019.csv', index=False)"
   ]
  },
  {
   "cell_type": "code",
   "execution_count": 236,
   "metadata": {},
   "outputs": [
    {
     "data": {
      "text/plain": [
       "Country                          0\n",
       "Region                           0\n",
       "Upper Confidence Interval        0\n",
       "Lower Confidence Interval        0\n",
       "Freedom                          0\n",
       "Generosity                       0\n",
       "Trust (Government Corruption)    0\n",
       "Economy (GDP per Capita)         0\n",
       "Family (Social Support)          0\n",
       "Health (Life Expectancy)         0\n",
       "Dystopia Residual                0\n",
       "Year                             0\n",
       "dtype: int64"
      ]
     },
     "execution_count": 236,
     "metadata": {},
     "output_type": "execute_result"
    }
   ],
   "source": [
    "# 2020\n",
    "\n",
    "\n",
    "# Read the 2020 data\n",
    "\n",
    "data_2020 = pd.read_csv(r'C:\\FINAL\\WHR\\dataset\\2020.csv')\n",
    "\n",
    "# Display the first few rows to understand the structure\n",
    "data_2020.head()\n",
    "\n",
    "# Check for missing values\n",
    "data_2020.isnull().sum()"
   ]
  },
  {
   "cell_type": "code",
   "execution_count": 238,
   "metadata": {},
   "outputs": [],
   "source": [
    "# SE from 'Lower Confidence Interval' and 'Upper Confidence Interval'\n",
    "\n",
    "Z = 1.96  # Z-score for a 95% confidence interval\n",
    "\n",
    "data_2020['Standard Error'] = (data_2020['Upper Confidence Interval'] - data_2020['Lower Confidence Interval']) / (2 * Z)"
   ]
  },
  {
   "cell_type": "code",
   "execution_count": 239,
   "metadata": {},
   "outputs": [
    {
     "data": {
      "text/html": [
       "<div>\n",
       "<style scoped>\n",
       "    .dataframe tbody tr th:only-of-type {\n",
       "        vertical-align: middle;\n",
       "    }\n",
       "\n",
       "    .dataframe tbody tr th {\n",
       "        vertical-align: top;\n",
       "    }\n",
       "\n",
       "    .dataframe thead th {\n",
       "        text-align: right;\n",
       "    }\n",
       "</style>\n",
       "<table border=\"1\" class=\"dataframe\">\n",
       "  <thead>\n",
       "    <tr style=\"text-align: right;\">\n",
       "      <th></th>\n",
       "      <th>Country</th>\n",
       "      <th>Region</th>\n",
       "      <th>Upper Confidence Interval</th>\n",
       "      <th>Lower Confidence Interval</th>\n",
       "      <th>Freedom</th>\n",
       "      <th>Generosity</th>\n",
       "      <th>Trust (Government Corruption)</th>\n",
       "      <th>Economy (GDP per Capita)</th>\n",
       "      <th>Family (Social Support)</th>\n",
       "      <th>Health (Life Expectancy)</th>\n",
       "      <th>Dystopia Residual</th>\n",
       "      <th>Year</th>\n",
       "      <th>Standard Error</th>\n",
       "    </tr>\n",
       "  </thead>\n",
       "  <tbody>\n",
       "    <tr>\n",
       "      <th>0</th>\n",
       "      <td>Finland</td>\n",
       "      <td>Western Europe</td>\n",
       "      <td>7.869766</td>\n",
       "      <td>7.747634</td>\n",
       "      <td>0.949172</td>\n",
       "      <td>-0.059482</td>\n",
       "      <td>0.195445</td>\n",
       "      <td>1.285190</td>\n",
       "      <td>1.499526</td>\n",
       "      <td>0.961271</td>\n",
       "      <td>2.762835</td>\n",
       "      <td>2020</td>\n",
       "      <td>0.031156</td>\n",
       "    </tr>\n",
       "    <tr>\n",
       "      <th>1</th>\n",
       "      <td>Denmark</td>\n",
       "      <td>Western Europe</td>\n",
       "      <td>7.711245</td>\n",
       "      <td>7.579955</td>\n",
       "      <td>0.951444</td>\n",
       "      <td>0.066202</td>\n",
       "      <td>0.168489</td>\n",
       "      <td>1.326949</td>\n",
       "      <td>1.503449</td>\n",
       "      <td>0.979333</td>\n",
       "      <td>2.432741</td>\n",
       "      <td>2020</td>\n",
       "      <td>0.033492</td>\n",
       "    </tr>\n",
       "    <tr>\n",
       "      <th>2</th>\n",
       "      <td>Switzerland</td>\n",
       "      <td>Western Europe</td>\n",
       "      <td>7.628528</td>\n",
       "      <td>7.491272</td>\n",
       "      <td>0.921337</td>\n",
       "      <td>0.105911</td>\n",
       "      <td>0.303728</td>\n",
       "      <td>1.390774</td>\n",
       "      <td>1.472403</td>\n",
       "      <td>1.040533</td>\n",
       "      <td>2.350267</td>\n",
       "      <td>2020</td>\n",
       "      <td>0.035014</td>\n",
       "    </tr>\n",
       "    <tr>\n",
       "      <th>3</th>\n",
       "      <td>Iceland</td>\n",
       "      <td>Western Europe</td>\n",
       "      <td>7.621347</td>\n",
       "      <td>7.387653</td>\n",
       "      <td>0.948892</td>\n",
       "      <td>0.246944</td>\n",
       "      <td>0.711710</td>\n",
       "      <td>1.326502</td>\n",
       "      <td>1.547567</td>\n",
       "      <td>1.000843</td>\n",
       "      <td>2.460688</td>\n",
       "      <td>2020</td>\n",
       "      <td>0.059616</td>\n",
       "    </tr>\n",
       "    <tr>\n",
       "      <th>4</th>\n",
       "      <td>Norway</td>\n",
       "      <td>Western Europe</td>\n",
       "      <td>7.556281</td>\n",
       "      <td>7.419719</td>\n",
       "      <td>0.955750</td>\n",
       "      <td>0.134533</td>\n",
       "      <td>0.263218</td>\n",
       "      <td>1.424207</td>\n",
       "      <td>1.495173</td>\n",
       "      <td>1.008072</td>\n",
       "      <td>2.168266</td>\n",
       "      <td>2020</td>\n",
       "      <td>0.034837</td>\n",
       "    </tr>\n",
       "  </tbody>\n",
       "</table>\n",
       "</div>"
      ],
      "text/plain": [
       "       Country          Region  Upper Confidence Interval  \\\n",
       "0      Finland  Western Europe                   7.869766   \n",
       "1      Denmark  Western Europe                   7.711245   \n",
       "2  Switzerland  Western Europe                   7.628528   \n",
       "3      Iceland  Western Europe                   7.621347   \n",
       "4       Norway  Western Europe                   7.556281   \n",
       "\n",
       "   Lower Confidence Interval   Freedom  Generosity  \\\n",
       "0                   7.747634  0.949172   -0.059482   \n",
       "1                   7.579955  0.951444    0.066202   \n",
       "2                   7.491272  0.921337    0.105911   \n",
       "3                   7.387653  0.948892    0.246944   \n",
       "4                   7.419719  0.955750    0.134533   \n",
       "\n",
       "   Trust (Government Corruption)  Economy (GDP per Capita)  \\\n",
       "0                       0.195445                  1.285190   \n",
       "1                       0.168489                  1.326949   \n",
       "2                       0.303728                  1.390774   \n",
       "3                       0.711710                  1.326502   \n",
       "4                       0.263218                  1.424207   \n",
       "\n",
       "   Family (Social Support)  Health (Life Expectancy)  Dystopia Residual  Year  \\\n",
       "0                 1.499526                  0.961271           2.762835  2020   \n",
       "1                 1.503449                  0.979333           2.432741  2020   \n",
       "2                 1.472403                  1.040533           2.350267  2020   \n",
       "3                 1.547567                  1.000843           2.460688  2020   \n",
       "4                 1.495173                  1.008072           2.168266  2020   \n",
       "\n",
       "   Standard Error  \n",
       "0        0.031156  \n",
       "1        0.033492  \n",
       "2        0.035014  \n",
       "3        0.059616  \n",
       "4        0.034837  "
      ]
     },
     "execution_count": 239,
     "metadata": {},
     "output_type": "execute_result"
    }
   ],
   "source": [
    "data_2020.head()"
   ]
  },
  {
   "cell_type": "code",
   "execution_count": 240,
   "metadata": {},
   "outputs": [],
   "source": [
    "# Save DataFrame to CSV\n",
    "data_2020.to_csv('data_2020.csv', index=False)"
   ]
  },
  {
   "cell_type": "code",
   "execution_count": 241,
   "metadata": {},
   "outputs": [],
   "source": [
    "# Save DataFrame to CSV\n",
    "data_2015.to_csv('data_2015.csv', index=False)\n",
    "data_2016.to_csv('data_2016.csv', index=False)\n",
    "data_2017.to_csv('data_2017.csv', index=False)\n",
    "\n"
   ]
  },
  {
   "cell_type": "code",
   "execution_count": 246,
   "metadata": {},
   "outputs": [
    {
     "data": {
      "text/html": [
       "<div>\n",
       "<style scoped>\n",
       "    .dataframe tbody tr th:only-of-type {\n",
       "        vertical-align: middle;\n",
       "    }\n",
       "\n",
       "    .dataframe tbody tr th {\n",
       "        vertical-align: top;\n",
       "    }\n",
       "\n",
       "    .dataframe thead th {\n",
       "        text-align: right;\n",
       "    }\n",
       "</style>\n",
       "<table border=\"1\" class=\"dataframe\">\n",
       "  <thead>\n",
       "    <tr style=\"text-align: right;\">\n",
       "      <th></th>\n",
       "      <th>Country</th>\n",
       "      <th>Region</th>\n",
       "      <th>Upper Confidence Interval</th>\n",
       "      <th>Lower Confidence Interval</th>\n",
       "      <th>Generosity</th>\n",
       "      <th>Economy (GDP per Capita)</th>\n",
       "      <th>Family (Social Support)</th>\n",
       "      <th>Health (Life Expectancy)</th>\n",
       "      <th>Freedom</th>\n",
       "      <th>Generosity_1</th>\n",
       "      <th>Trust (Government Corruption)</th>\n",
       "      <th>Dystopia Residual</th>\n",
       "      <th>Year</th>\n",
       "    </tr>\n",
       "  </thead>\n",
       "  <tbody>\n",
       "    <tr>\n",
       "      <th>0</th>\n",
       "      <td>Finland</td>\n",
       "      <td>Western Europe</td>\n",
       "      <td>7.904</td>\n",
       "      <td>7.780</td>\n",
       "      <td>-0.098</td>\n",
       "      <td>1.446</td>\n",
       "      <td>1.106</td>\n",
       "      <td>0.741</td>\n",
       "      <td>0.691</td>\n",
       "      <td>0.124</td>\n",
       "      <td>0.481</td>\n",
       "      <td>3.253</td>\n",
       "      <td>2021</td>\n",
       "    </tr>\n",
       "    <tr>\n",
       "      <th>1</th>\n",
       "      <td>Denmark</td>\n",
       "      <td>Western Europe</td>\n",
       "      <td>7.687</td>\n",
       "      <td>7.552</td>\n",
       "      <td>0.030</td>\n",
       "      <td>1.502</td>\n",
       "      <td>1.108</td>\n",
       "      <td>0.763</td>\n",
       "      <td>0.686</td>\n",
       "      <td>0.208</td>\n",
       "      <td>0.485</td>\n",
       "      <td>2.868</td>\n",
       "      <td>2021</td>\n",
       "    </tr>\n",
       "    <tr>\n",
       "      <th>2</th>\n",
       "      <td>Switzerland</td>\n",
       "      <td>Western Europe</td>\n",
       "      <td>7.643</td>\n",
       "      <td>7.500</td>\n",
       "      <td>0.025</td>\n",
       "      <td>1.566</td>\n",
       "      <td>1.079</td>\n",
       "      <td>0.816</td>\n",
       "      <td>0.653</td>\n",
       "      <td>0.204</td>\n",
       "      <td>0.413</td>\n",
       "      <td>2.839</td>\n",
       "      <td>2021</td>\n",
       "    </tr>\n",
       "    <tr>\n",
       "      <th>3</th>\n",
       "      <td>Iceland</td>\n",
       "      <td>Western Europe</td>\n",
       "      <td>7.670</td>\n",
       "      <td>7.438</td>\n",
       "      <td>0.160</td>\n",
       "      <td>1.482</td>\n",
       "      <td>1.172</td>\n",
       "      <td>0.772</td>\n",
       "      <td>0.698</td>\n",
       "      <td>0.293</td>\n",
       "      <td>0.170</td>\n",
       "      <td>2.967</td>\n",
       "      <td>2021</td>\n",
       "    </tr>\n",
       "    <tr>\n",
       "      <th>4</th>\n",
       "      <td>Netherlands</td>\n",
       "      <td>Western Europe</td>\n",
       "      <td>7.518</td>\n",
       "      <td>7.410</td>\n",
       "      <td>0.175</td>\n",
       "      <td>1.501</td>\n",
       "      <td>1.079</td>\n",
       "      <td>0.753</td>\n",
       "      <td>0.647</td>\n",
       "      <td>0.302</td>\n",
       "      <td>0.384</td>\n",
       "      <td>2.798</td>\n",
       "      <td>2021</td>\n",
       "    </tr>\n",
       "  </tbody>\n",
       "</table>\n",
       "</div>"
      ],
      "text/plain": [
       "       Country          Region  Upper Confidence Interval  \\\n",
       "0      Finland  Western Europe                      7.904   \n",
       "1      Denmark  Western Europe                      7.687   \n",
       "2  Switzerland  Western Europe                      7.643   \n",
       "3      Iceland  Western Europe                      7.670   \n",
       "4  Netherlands  Western Europe                      7.518   \n",
       "\n",
       "   Lower Confidence Interval  Generosity  Economy (GDP per Capita)  \\\n",
       "0                      7.780      -0.098                     1.446   \n",
       "1                      7.552       0.030                     1.502   \n",
       "2                      7.500       0.025                     1.566   \n",
       "3                      7.438       0.160                     1.482   \n",
       "4                      7.410       0.175                     1.501   \n",
       "\n",
       "   Family (Social Support)  Health (Life Expectancy)  Freedom  Generosity_1  \\\n",
       "0                    1.106                     0.741    0.691         0.124   \n",
       "1                    1.108                     0.763    0.686         0.208   \n",
       "2                    1.079                     0.816    0.653         0.204   \n",
       "3                    1.172                     0.772    0.698         0.293   \n",
       "4                    1.079                     0.753    0.647         0.302   \n",
       "\n",
       "   Trust (Government Corruption)  Dystopia Residual  Year  \n",
       "0                          0.481              3.253  2021  \n",
       "1                          0.485              2.868  2021  \n",
       "2                          0.413              2.839  2021  \n",
       "3                          0.170              2.967  2021  \n",
       "4                          0.384              2.798  2021  "
      ]
     },
     "execution_count": 246,
     "metadata": {},
     "output_type": "execute_result"
    }
   ],
   "source": [
    "# Read the 2021 data\n",
    "\n",
    "data_2021 = pd.read_csv(r'C:\\FINAL\\WHR\\dataset\\2021.csv')\n",
    "\n",
    "# Display the first few rows to understand the structure\n",
    "data_2021.head()\n"
   ]
  },
  {
   "cell_type": "code",
   "execution_count": 247,
   "metadata": {},
   "outputs": [
    {
     "data": {
      "text/plain": [
       "Country                          0\n",
       "Region                           0\n",
       "Upper Confidence Interval        0\n",
       "Lower Confidence Interval        0\n",
       "Generosity                       0\n",
       "Economy (GDP per Capita)         0\n",
       "Family (Social Support)          0\n",
       "Health (Life Expectancy)         0\n",
       "Freedom                          0\n",
       "Generosity_1                     0\n",
       "Trust (Government Corruption)    0\n",
       "Dystopia Residual                0\n",
       "Year                             0\n",
       "dtype: int64"
      ]
     },
     "execution_count": 247,
     "metadata": {},
     "output_type": "execute_result"
    }
   ],
   "source": [
    "# Check for missing values\n",
    "data_2021.isnull().sum()\n"
   ]
  },
  {
   "cell_type": "code",
   "execution_count": 248,
   "metadata": {},
   "outputs": [],
   "source": [
    "# SE from 'Lower Confidence Interval' and 'Upper Confidence Interval'\n",
    "\n",
    "Z = 1.96  # Z-score for a 95% confidence interval\n",
    "\n",
    "data_2021['Standard Error'] = (data_2021['Upper Confidence Interval'] - data_2021['Lower Confidence Interval']) / (2 * Z)"
   ]
  },
  {
   "cell_type": "code",
   "execution_count": 249,
   "metadata": {},
   "outputs": [],
   "source": [
    "# Save DataFrame to CSV\n",
    "data_2021.to_csv('data_2021.csv', index=False)"
   ]
  },
  {
   "cell_type": "code",
   "execution_count": null,
   "metadata": {},
   "outputs": [],
   "source": []
  }
 ],
 "metadata": {
  "kernelspec": {
   "display_name": "Python 3",
   "language": "python",
   "name": "python3"
  },
  "language_info": {
   "codemirror_mode": {
    "name": "ipython",
    "version": 3
   },
   "file_extension": ".py",
   "mimetype": "text/x-python",
   "name": "python",
   "nbconvert_exporter": "python",
   "pygments_lexer": "ipython3",
   "version": "3.11.6"
  }
 },
 "nbformat": 4,
 "nbformat_minor": 2
}
